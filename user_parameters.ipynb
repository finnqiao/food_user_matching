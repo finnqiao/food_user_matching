{
 "cells": [
  {
   "cell_type": "code",
   "execution_count": 13,
   "metadata": {},
   "outputs": [
    {
     "name": "stdout",
     "output_type": "stream",
     "text": [
      "dict_keys(['Advanced', 'Expert', 'Intermediate', 'Novice'])\n"
     ]
    }
   ],
   "source": [
    "%store -r gender_vector\n",
    "%store -r age_vector\n",
    "%store -r knowledge_vector\n",
    "print(knowledge_vector.keys())"
   ]
  },
  {
   "cell_type": "code",
   "execution_count": 15,
   "metadata": {},
   "outputs": [],
   "source": [
    "female = gender_vector['Female']\n",
    "male = gender_vector['Male']\n",
    "age1 = age_vector[1]\n",
    "age2 = age_vector[1]\n",
    "age3 = age_vector[2]\n",
    "age4 = age_vector[3]\n",
    "age5 = age_vector[3]\n",
    "age6 = age_vector[4]\n",
    "know1 = knowledge_vector['Novice']\n",
    "know2 = knowledge_vector['Intermediate']\n",
    "know3 = knowledge_vector['Expert']\n",
    "know4 = knowledge_vector['Advanced']"
   ]
  },
  {
   "cell_type": "code",
   "execution_count": null,
   "metadata": {},
   "outputs": [],
   "source": [
    "user = {\n",
    "    'gender': 'male',\n",
    "    'age': 2,\n",
    "    'knowledge': 4,\n",
    "    'budget': 2,\n",
    "    'dietary': {\n",
    "        \"None\": 1,\n",
    "        \"Vegan\": 0,\n",
    "        \"Vegetarian\": 0,\n",
    "        \"Pescatarian\": 0\n",
    "    },\n",
    "    'allergies': {\n",
    "        'Peanut':0, \n",
    "        'Tree Nuts':0, \n",
    "        'Milk':1, \n",
    "        'Egg':0, \n",
    "        'Wheat':0, \n",
    "        'Soy':1, \n",
    "        'Fish':0, \n",
    "        'Shellfish':0, \n",
    "        'Meat':0, \n",
    "        'Poultry':0\n",
    "    },\n",
    "    'location': {\n",
    "        'neighborhood': 'SOMA',\n",
    "        'latitude':,\n",
    "        'longitude':\n",
    "    },\n",
    "    'curLocation': {\n",
    "        'latitude':,\n",
    "        'longitude':\n",
    "    },\n",
    "    'cuisines': {\n",
    "        'African':0, \n",
    "        'American':0, \n",
    "        'Chinese':0, \n",
    "        'Thai':0, \n",
    "        'Japanese':0, \n",
    "        'Korean':0, \n",
    "        'Vietnamese':0, \n",
    "        'Indian':0, \n",
    "        'Middle Eastern':0, \n",
    "        'French':0, \n",
    "        'Italian':0, \n",
    "        'Mexican':0, \n",
    "        'Spanish':0, \n",
    "        'Latin American':0, \n",
    "        'Mediterranean':0, \n",
    "        'Other Asian':0, \n",
    "        'Other European':0\n",
    "    },\n",
    "    'popularity': 5,\n",
    "    'rating': 4,\n",
    "    'proximity': 2,\n",
    "    'ambience': 1,\n",
    "    'menu': 2\n",
    "}"
   ]
  },
  {
   "cell_type": "code",
   "execution_count": null,
   "metadata": {
    "collapsed": true
   },
   "outputs": [],
   "source": []
  },
  {
   "cell_type": "code",
   "execution_count": null,
   "metadata": {
    "collapsed": true
   },
   "outputs": [],
   "source": []
  },
  {
   "cell_type": "code",
   "execution_count": null,
   "metadata": {
    "collapsed": true
   },
   "outputs": [],
   "source": []
  }
 ],
 "metadata": {
  "kernelspec": {
   "display_name": "Python 3",
   "language": "python",
   "name": "python3"
  },
  "language_info": {
   "codemirror_mode": {
    "name": "ipython",
    "version": 3
   },
   "file_extension": ".py",
   "mimetype": "text/x-python",
   "name": "python",
   "nbconvert_exporter": "python",
   "pygments_lexer": "ipython3",
   "version": "3.6.3"
  }
 },
 "nbformat": 4,
 "nbformat_minor": 2
}
