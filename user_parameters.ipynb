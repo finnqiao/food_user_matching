{
 "cells": [
  {
   "cell_type": "code",
   "execution_count": 124,
   "metadata": {},
   "outputs": [
    {
     "name": "stdout",
     "output_type": "stream",
     "text": [
      "dict_keys(['Advanced', 'Expert', 'Intermediate', 'Novice'])\n"
     ]
    }
   ],
   "source": [
    "%store -r gender_vector\n",
    "%store -r age_vector\n",
    "%store -r knowledge_vector\n",
    "print(knowledge_vector.keys())\n",
    "def cross_weight(d1, d2):\n",
    "    default=1 \n",
    "    ret=0;\n",
    "    for i in d1.keys():\n",
    "        if(d2.get(i,default)==default):\n",
    "            continue\n",
    "        else:\n",
    "            ret+=d1[i]*d2[i]\n",
    "\n",
    "    return ret\n",
    "pattern = re.compile(r'[^A-Za-z\\s]') \n",
    "def word_weights(str_):\n",
    "    str_ = pattern.sub('',str_) \n",
    "    alist = str_.lower().split(\" \")\n",
    "    length = len(alist)\n",
    "    default=0\n",
    "    \n",
    "    dict={}\n",
    "    for i in alist:\n",
    "        if dict.get(i, default)==default:\n",
    "            dict[i]=1/length\n",
    "        else:\n",
    "            dict[i]+=1/length\n",
    "\n",
    "    return dict"
   ]
  },
  {
   "cell_type": "code",
   "execution_count": 129,
   "metadata": {},
   "outputs": [
    {
     "data": {
      "text/plain": [
       "0.8190673914459322"
      ]
     },
     "execution_count": 129,
     "metadata": {},
     "output_type": "execute_result"
    }
   ],
   "source": [
    "from math import sin, cos, sqrt, atan2, radians, ceil\n",
    "# approximate radius of earth in km\n",
    "R = 6373.0\n",
    "\n",
    "def distance_calc(lat1,lon1,lat2,lon2):\n",
    "    \n",
    "    lat1 = radians(lat1)\n",
    "    lon1 = radians(lon1)\n",
    "    lat2 = radians(lat2)\n",
    "    lon2 = radians(lon2)\n",
    "\n",
    "    dlon = lon2 - lon1\n",
    "    dlat = lat2 - lat1\n",
    "\n",
    "    a = sin(dlat / 2)**2 + cos(lat1) * cos(lat2) * sin(dlon / 2)**2\n",
    "    c = 2 * atan2(sqrt(a), sqrt(1 - a))\n",
    "\n",
    "    distance = R * c\n",
    "    \n",
    "    return distance\n",
    "\n",
    "# distance_calc(user['location']['latitude'],user['location']['longitude'],user['curLocation']['latitude'],user['curLocation']['longitude'])"
   ]
  },
  {
   "cell_type": "code",
   "execution_count": 60,
   "metadata": {
    "collapsed": true
   },
   "outputs": [],
   "source": [
    "def simplify(str_):\n",
    "    str_ = pattern.sub('',str_) \n",
    "    alist = str_.lower().split(\" \")\n",
    "    str_ = '_'.join(alist)\n",
    "    return str_"
   ]
  },
  {
   "cell_type": "code",
   "execution_count": 84,
   "metadata": {},
   "outputs": [
    {
     "name": "stdout",
     "output_type": "stream",
     "text": [
      "{'african': 1.925014392630973e-05, 'american': 0.00042098445595854919, 'chinese': 0.00031196027633851469, 'french': 0.00024632987910189983, 'indian': 0.00018955094991364419, 'italian': 0.00040284974093264254, 'japanese': 0.00025151122625215893, 'korean': 7.4050086355785842e-05, 'latin_american': 5.0206294377278833e-05, 'mediterranean': 0.00010067645365572827, 'mexican': 0.00036571675302245248, 'other_asian': 0.00011501511226252158, 'other_european': 0.00015482872769142199, 'spanish': 0.0001180915371329879, 'thai': 0.00018588082901554404, 'vietnamese': 0.00011463730569948186, 'middle_eastern': 2.8065630397236616e-05}\n"
     ]
    }
   ],
   "source": [
    "female = gender_vector['Female']\n",
    "male = gender_vector['Male']\n",
    "age1 = age_vector[1]\n",
    "age2 = age_vector[1]\n",
    "age3 = age_vector[2]\n",
    "age4 = age_vector[3]\n",
    "age5 = age_vector[3]\n",
    "age6 = age_vector[4]\n",
    "know1 = knowledge_vector['Novice']\n",
    "know2 = knowledge_vector['Intermediate']\n",
    "know3 = knowledge_vector['Expert']\n",
    "know4 = knowledge_vector['Advanced']\n",
    "print(male)"
   ]
  },
  {
   "cell_type": "code",
   "execution_count": 105,
   "metadata": {
    "collapsed": true
   },
   "outputs": [],
   "source": [
    "user = {\n",
    "    'gender': 'Male',\n",
    "    'age': 2,\n",
    "    'knowledge': 4,\n",
    "    'budget': 2,\n",
    "    'dietary': {\n",
    "        \"None\": 1,\n",
    "        \"Vegan\": 0,\n",
    "        \"Vegetarian\": 0,\n",
    "        \"Pescatarian\": 0\n",
    "    },\n",
    "    'allergies': {\n",
    "        'Peanut':0, \n",
    "        'Tree Nuts':0, \n",
    "        'Milk':1, \n",
    "        'Egg':0, \n",
    "        'Wheat':0, \n",
    "        'Soy':1, \n",
    "        'Fish':0, \n",
    "        'Shellfish':0, \n",
    "        'Meat':0, \n",
    "        'Poultry':0\n",
    "    },\n",
    "    'location': {\n",
    "        'neighborhood': 'SOMA',\n",
    "        'latitude':37.7785189,\n",
    "        'longitude':-122.4056395\n",
    "    },\n",
    "    'curLocation': {\n",
    "        'latitude':37.771741,\n",
    "        'longitude':-122.409281\n",
    "    },\n",
    "    'cuisines': {\n",
    "        'African':0, \n",
    "        'American':0, \n",
    "        'Chinese':1, \n",
    "        'Thai':0, \n",
    "        'Japanese':0, \n",
    "        'Korean':1, \n",
    "        'Vietnamese':0, \n",
    "        'Indian':0, \n",
    "        'Middle Eastern':1, \n",
    "        'French':0, \n",
    "        'Italian':1, \n",
    "        'Mexican':1, \n",
    "        'Spanish':0, \n",
    "        'Latin American':0, \n",
    "        'Mediterranean':0, \n",
    "        'Other Asian':0, \n",
    "        'Other European':0\n",
    "    },\n",
    "    'popularity': 5,\n",
    "    'rating': 4,\n",
    "    'proximity': 2,\n",
    "    'ambience': 1,\n",
    "    'menu': 2\n",
    "}"
   ]
  },
  {
   "cell_type": "code",
   "execution_count": 33,
   "metadata": {
    "collapsed": true
   },
   "outputs": [],
   "source": [
    "import urllib\n",
    "import re\n",
    "import requests\n",
    "from urllib.request import Request, urlopen\n",
    "from bs4 import BeautifulSoup\n",
    "import json"
   ]
  },
  {
   "cell_type": "code",
   "execution_count": 66,
   "metadata": {
    "collapsed": true
   },
   "outputs": [],
   "source": [
    "allergies = [ 'Peanut', 'Tree Nuts', 'Milk', 'Egg', 'Wheat', 'Soy', 'Fish', 'Shellfish', 'Meat', 'Poultry' ]\n",
    "\n",
    "allergy_word_clouds = []\n",
    "for allergy in allergies:\n",
    "    related = []\n",
    "    url = 'http://relatedwords.org/api/related?term=' + simplify(allergy)\n",
    "    req = Request(url, headers={'User-Agent': 'Mozilla/5.0'})\n",
    "    r = urlopen(req).read()\n",
    "    j = json.loads(r)\n",
    "    for x in j:\n",
    "        related.append(x['word'])\n",
    "    str_ = ''\n",
    "    for x in related:\n",
    "        str_ = str_ + x + ' '\n",
    "    weight = word_weights(str_)\n",
    "    allergy_word_clouds.append(weight)\n",
    "allergy_word_weights = dict(zip(allergies,allergy_word_clouds))"
   ]
  },
  {
   "cell_type": "code",
   "execution_count": 118,
   "metadata": {},
   "outputs": [
    {
     "name": "stdout",
     "output_type": "stream",
     "text": [
      "Stored 'neg_allergies' (dict)\n"
     ]
    }
   ],
   "source": [
    "%store -r cuisine_word_weights\n",
    "avg = 0.0007\n",
    "neg_allergies = dict.fromkeys(allergies)\n",
    "for allergy in neg_allergies:\n",
    "    sum_ = 0\n",
    "    neg_allergies[allergy] = dict.fromkeys(['african', 'american', 'chinese', 'french', 'indian', 'italian', 'japanese', 'latin_american', 'mediterranean', 'mexican', 'other_asian', 'other_european', 'spanish', 'thai', 'vietnamese', 'korean', 'middle_eastern'])\n",
    "    text_weight = allergy_word_weights[allergy]\n",
    "    for key in neg_allergies[allergy]:\n",
    "        neg_allergies[allergy][key] = cross_weight(cuisine_word_weights[key],text_weight) * -0.1\n",
    "\n",
    "%store neg_allergies"
   ]
  },
  {
   "cell_type": "code",
   "execution_count": 176,
   "metadata": {},
   "outputs": [
    {
     "name": "stdout",
     "output_type": "stream",
     "text": [
      "{'african': -1.3249217825389461e-06, 'american': 0.00024401703634617235, 'chinese': 0.0015505008080400626, 'french': 0.00029662751298605933, 'indian': 0.00037580635484675009, 'italian': 0.001723422544891203, 'japanese': 0.00024572070639331716, 'latin_american': -5.52516947572349e-05, 'mediterranean': 4.0430832865313003e-05, 'mexican': 0.0016790495971746942, 'other_asian': 0.00021711210985862311, 'other_european': 4.4699675003738383e-05, 'spanish': 0.00013187823746560923, 'thai': 0.00028228003182545068, 'vietnamese': 0.00020418544031925991, 'korean': 0.0014989178738629026, 'middle_eastern': 0.0012549498942120349}\n"
     ]
    }
   ],
   "source": [
    "# user scoring\n",
    "# cuisine vector determination from gender, age, knowledge, allergies, cuisine\n",
    "def user_cuisine_params(user):\n",
    "    if user['gender'] == 'Male':\n",
    "        genderV = male\n",
    "    if user['gender'] == 'Female':\n",
    "        genderV = female\n",
    "    if user['age'] == 1:\n",
    "        ageV = age1\n",
    "    if user['age'] == 2:\n",
    "        ageV = age2\n",
    "    if user['age'] == 3:\n",
    "        ageV = age3\n",
    "    if user['age'] == 4:\n",
    "        ageV = age4\n",
    "    if user['age'] == 5:\n",
    "        ageV = age5\n",
    "    if user['age'] == 6:\n",
    "        ageV = age6\n",
    "    if user['knowledge'] == 1:\n",
    "        knowV = know1\n",
    "    if user['knowledge'] == 2:\n",
    "        knowV = know2\n",
    "    if user['knowledge'] == 3:\n",
    "        knowV = know3\n",
    "    if user['knowledge'] == 4:\n",
    "        knowV = know4\n",
    "    allergyV = dict.fromkeys(['african', 'american', 'chinese', 'french', 'indian', 'italian', 'japanese', 'latin_american', 'mediterranean', 'mexican', 'other_asian', 'other_european', 'spanish', 'thai', 'vietnamese', 'korean', 'middle_eastern'])\n",
    "    for allergy in user['allergies']:\n",
    "        if user['allergies'][allergy] == 1:\n",
    "            for cuisine in allergyV:\n",
    "                if allergyV[cuisine] == None:\n",
    "                    allergyV[cuisine] = neg_allergies[allergy][cuisine]\n",
    "                else:             \n",
    "                    allergyV[cuisine] = allergyV[cuisine] + neg_allergies[allergy][cuisine]\n",
    "    cuisineV = dict.fromkeys(['african', 'american', 'chinese', 'french', 'indian', 'italian', 'japanese', 'latin_american', 'mediterranean', 'mexican', 'other_asian', 'other_european', 'spanish', 'thai', 'vietnamese', 'korean', 'middle_eastern']) \n",
    "    \n",
    "    for user_cuisine in user['cuisines']:\n",
    "        if user['cuisines'][user_cuisine] == 1:\n",
    "            cuisineV[simplify(user_cuisine)] = 0.0013\n",
    "        else:\n",
    "            cuisineV[simplify(user_cuisine)] = 0\n",
    "    \n",
    "#     combining genderV, ageV, knowV, allergyV, cuisineV\n",
    "    userV = dict.fromkeys(['african', 'american', 'chinese', 'french', 'indian', 'italian', 'japanese', 'latin_american', 'mediterranean', 'mexican', 'other_asian', 'other_european', 'spanish', 'thai', 'vietnamese', 'korean', 'middle_eastern'])\n",
    "    for k in userV:\n",
    "        userV[k] = genderV[key] + ageV[key] + knowV[k] + allergyV[k] + cuisineV[k]\n",
    "    return userV\n",
    "    \n",
    "cuisine_params = user_cuisine_params(user)\n",
    "print(cuisine_params)"
   ]
  },
  {
   "cell_type": "code",
   "execution_count": 177,
   "metadata": {},
   "outputs": [
    {
     "name": "stdout",
     "output_type": "stream",
     "text": [
      "{'about': 'Del Popolo is a mobile pizzeria committed to creating rustic '\n",
      "          'Neopolitan-inspired pizza using ingredients sourced from small, '\n",
      "          'generational producers. Del Popolo is housed in a twenty-foot '\n",
      "          \"transatlantic shipping container that's been re-purposed and \"\n",
      "          'modified into a kitchen. A wall of glass doors exposes the '\n",
      "          'interior, including the traditional Italian-made wood-fired oven.',\n",
      " 'attribute': {'savory': 1, 'sweet': 0, 'vegetarian': 0},\n",
      " 'chef-info': '',\n",
      " 'cuisine': ['Pizza'],\n",
      " 'cuisine-map': {'african': 0.001596402853153894,\n",
      "                 'american': 0.0036434952203559137,\n",
      "                 'chinese': 0.0018358103263217795,\n",
      "                 'french': 0.003642304092022059,\n",
      "                 'indian': 0.004493875047726675,\n",
      "                 'italian': 0.004196235312815241,\n",
      "                 'japanese': 0.0011491461100569464,\n",
      "                 'korean': 0.0047486103511166534,\n",
      "                 'latin_american': 0.002377482163851,\n",
      "                 'mediterranean': 0.0029862427410101327,\n",
      "                 'mexican': 0.003929840919089204,\n",
      "                 'middle_eastern': 0.002076564554807764,\n",
      "                 'other_asian': 0.004724277138291259,\n",
      "                 'other_european': 0.0012717065911604334,\n",
      "                 'spanish': 0.0030064090442796024,\n",
      "                 'thai': 0.0023929792086450886,\n",
      "                 'vietnamese': 0.0012377274961234777},\n",
      " 'menu': ' Summer Squash and Cucumber Salad Albacore Tuna Crudo Musk Melon '\n",
      "         'Salad Peaches Roasted in the Wood Oven Crispy Chicken Livers & '\n",
      "         'Cherry Tomatoes Farrotto Monterey Bay Squid House-Cured Bresaola '\n",
      "         'Crispy Chicken Livers & Cherry Tomatoes Marinara Margherita '\n",
      "         'Margherita di Bufala Bianca Eggplant Butterball Potato Anchovy House '\n",
      "         'Made Sausage Sparkling Wines RosÃ© Wines White Wines Red Wines '\n",
      "         'Appetizers With toasted almonds, nepitella & buttermilk vinaigrette '\n",
      "         'Appetizers With castelvetrano olive tapenade, new potato & aioli '\n",
      "         'Appetizers With Prosciutto di San Daniele, roasted padron peppers & '\n",
      "         \"creme fraiche Appetizers With goat's cheese, salsa rustica & seeded \"\n",
      "         'cracker Appetizers With house cured pancetta & tarragon Appetizers '\n",
      "         'With wild morel mushrooms, sweet corn, prosciutto & egg yolk '\n",
      "         'Appetizers With golden Romano beans, confit Early Girl tomato & '\n",
      "         \"chili Appetizers With olive oil & za'atar Appetizers With house \"\n",
      "         'cured pancetta & tarragon Entrees Crushed tomato, green garlic, '\n",
      "         'oregano Entrees Crushed tomato, mozzarella, basil Entrees Crushed '\n",
      "         'tomato, Ramini mozzarella di bufala, basil Entrees Mozzarella, '\n",
      "         \"ricotta, basil, garlic Entrees Crushed tomato, mozzarella, 'Nduja, \"\n",
      "         'ricotta salata Entrees Leeks, fontina, hot honey Entrees Bitter '\n",
      "         'greens, ricotta, Calabrian chili Entrees Crushed tomato, mozzarella, '\n",
      "         'Gypsy peppers, red onion, chili Drinks  Drinks  Drinks  Drinks ',\n",
      " 'price': 1,\n",
      " 'review-count': 0,\n",
      " 'schedule': [{'address': 'Main Parade Ground',\n",
      "               'city': 'San Francisco',\n",
      "               'latitude': 37.800739,\n",
      "               'location': 'Presidio Picnic',\n",
      "               'longitude': -122.458237,\n",
      "               'state': 'CA',\n",
      "               'times': {'day': 6,\n",
      "                         'endTime': 16,\n",
      "                         'month': 5,\n",
      "                         'startTime': 11}}],\n",
      " 'stars-count': 0,\n",
      " 'type': 'truck',\n",
      " 'vendor-name': 'Del Popolo'}\n"
     ]
    }
   ],
   "source": [
    "%store -r vendorList\n",
    "import pprint\n",
    "dummy_vendor = vendorList[34]\n",
    "pprint.pprint(dummy_vendor)"
   ]
  },
  {
   "cell_type": "code",
   "execution_count": 185,
   "metadata": {},
   "outputs": [
    {
     "name": "stdout",
     "output_type": "stream",
     "text": [
      "{'Chomp Station': 0.27654277359117252, 'Little Red Riding Truck': 0.2245387949958971, 'Kabob Trolley': 0.20958965529856172, 'Lobsta Truck': 0.16702454560349447, 'Little Green Cyclo': 0.3655470944060541, 'Don Pablo': 0.23125717452199179, 'Bonito Poke': 0.16034559811653806, 'Cochinita': 0.23523808283805486, 'Happy Dumplings': 0.18621222205648291, 'Seoul of Taipei': 0.29501461371609433, \"It's All Gravy\": 0.18873358600531617, 'El Sabrosito': 0.26763781231997669, 'Liberty Cheesesteak': 0.33362202938751989, 'Curry Up Now': 0.16622144039407161, 'Momolicious': 0.21800706689638616, 'Canasta Kitchen': 0.25243305349581674, 'Jeepsilog': 0.29538386717110721, 'Hookt Mini Doughnuts': 0.18734854855248431, 'Spork & Stix': 0.4044116631522377, \"Rocko's Ice Cream Tacos\": 0.23828394630713085, 'Tres Truck': 0.22798701099640101, 'No Worries': 0.2181223013010174, 'Frozen Kuhsterd': 0.18713168817361492, \"Izzy's Cheesesteaks\": 0.23452717316206356, 'Licensed 2 Grill': 0.24287555994559548, 'The Boneyard': 0.24320715410829483, 'Got Plate Lunch': 0.36175901878762162, 'Senor Sisig': 0.29054506447552875, 'Seoulful Korean Fried Chicken': 0.27868584325010276, 'Southern Comfort Kitchen': 0.25051613238533382, 'Bombzies BBQ': 0.23864299581570975, 'Hedge Coffee': 0.31412680014356736, 'Taqueria Angelicas': 0.82565455865670656, 'Kome Sushi Burrito': 0.16522028228679878, 'Del Popolo': 0.32735649461321997, 'Red Sauce Meatballs': 0.32121298459699676, 'North Border Taco': 0.38403002308591749, 'PI Wings': 0.32384356979183593, 'Mozzeria': 0.37466373188542412, 'Beyond the Border': 0.29102904194183171, 'COOL!NARIA': 0.17722071744755313, 'Upper Cut': 0.23759657649850469, \"Kara's Cupcakes\": 0.091042465119487673, 'Mayo & Mustard': 0.3715859733213514, 'El Sur': 0.24972086464729612, 'Johnny Doughnuts': 0.14072721581136713, 'Lady Falcon Coffee Club': 0.33496116327390701, 'United Bites': 0.38400229678258252, \"Lexie's Frozen Custard\": 0.13765866593729445, 'The Chairman': 0.13646513933356633, 'Street Steam Bunz': 0.13580592112679735, 'Mi Cantarito': 0.29574278205370158, \"Bowl'd Acai\": 0.22680141983472721, 'Pintxos de Espana': 0.18184115381741364, '3-Course Spring Californian Dinner': 0.10911119781377486, 'Impastare: Italy x China II': 0.18413561959991009, 'The Art of Making Chocolate Truffles + Wine & Chocolate Pairing Flight (hands on class)': 0.18772586925643781, '4-Course Seasonal Italian Dinner': 0.16272624926159002, 'Noodle in a Haystack: Spicy Miso Paitan': 0.18919892168851951, 'Modernist Spring Dinner': 0.24170909961371245, 'Northern Iranian Spring Dinner': 0.14095675767314764, 'The Silk Road Tacos: \\nMexican Indian Fusion': 0.16055815481622002, 'Vegan Date Night: an LGBT community gathering': 0.17688563964322487, 'Istanbul Modern, Spring (10 course)': 0.14377255206479606, 'ICHIDO Japanese Omakase': 0.16071686977599298, '4-Course Brunch Without A Line': 0.1429856374673526, 'Eat Stay Love Lafayette Food Tour': 0.17707194021326633, 'Hangover Cure Mexican Brunch': 0.16173538383961239, 'Noodle in a Haystack: Paitan / Tan Tan': 0.19258238687354165, 'Afternoon tea with June': 0.15574278231468572, 'Mar y Tierra': 0.16319643545786952}\n"
     ]
    }
   ],
   "source": [
    "def cuisine_score_calc(cuisine_params, vendor):\n",
    "    cuisine_score = 0\n",
    "    for key in cuisine_params:\n",
    "        cuisine_score = cuisine_score + cuisine_params[key] * vendor['cuisine-map'][key]\n",
    "    return cuisine_score*10*1000\n",
    "\n",
    "vendor_names = []\n",
    "vendor_matches = []\n",
    "for vendor in vendorList:\n",
    "    vendor_names.append(vendor['vendor-name'])\n",
    "    vendor_matches.append(cuisine_score_calc(cuisine_params,vendor))\n",
    "    \n",
    "v = dict(zip(vendor_names,vendor_matches))\n",
    "print(v)"
   ]
  },
  {
   "cell_type": "code",
   "execution_count": 180,
   "metadata": {},
   "outputs": [
    {
     "name": "stdout",
     "output_type": "stream",
     "text": [
      "OrderedDict([('Taqueria Angelicas', 0.82565455865670656),\n",
      "             ('Spork & Stix', 0.4044116631522377),\n",
      "             ('North Border Taco', 0.38403002308591749),\n",
      "             ('United Bites', 0.38400229678258252),\n",
      "             ('Mozzeria', 0.37466373188542412),\n",
      "             ('Mayo & Mustard', 0.3715859733213514),\n",
      "             ('Little Green Cyclo', 0.3655470944060541),\n",
      "             ('Got Plate Lunch', 0.36175901878762162),\n",
      "             ('Lady Falcon Coffee Club', 0.33496116327390701),\n",
      "             ('Liberty Cheesesteak', 0.33362202938751989),\n",
      "             ('Del Popolo', 0.32735649461321997),\n",
      "             ('PI Wings', 0.32384356979183593),\n",
      "             ('Red Sauce Meatballs', 0.32121298459699676),\n",
      "             ('Hedge Coffee', 0.31412680014356736),\n",
      "             ('Mi Cantarito', 0.29574278205370158),\n",
      "             ('Jeepsilog', 0.29538386717110721),\n",
      "             ('Seoul of Taipei', 0.29501461371609433),\n",
      "             ('Beyond the Border', 0.29102904194183171),\n",
      "             ('Senor Sisig', 0.29054506447552875),\n",
      "             ('Seoulful Korean Fried Chicken', 0.27868584325010276),\n",
      "             ('Chomp Station', 0.27654277359117252),\n",
      "             ('El Sabrosito', 0.26763781231997669),\n",
      "             ('Canasta Kitchen', 0.25243305349581674),\n",
      "             ('Southern Comfort Kitchen', 0.25051613238533382),\n",
      "             ('El Sur', 0.24972086464729612),\n",
      "             ('The Boneyard', 0.24320715410829483),\n",
      "             ('Licensed 2 Grill', 0.24287555994559548),\n",
      "             ('Modernist Spring Dinner', 0.24170909961371245),\n",
      "             ('Bombzies BBQ', 0.23864299581570975),\n",
      "             (\"Rocko's Ice Cream Tacos\", 0.23828394630713085),\n",
      "             ('Upper Cut', 0.23759657649850469),\n",
      "             ('Cochinita', 0.23523808283805486),\n",
      "             (\"Izzy's Cheesesteaks\", 0.23452717316206356),\n",
      "             ('Don Pablo', 0.23125717452199179),\n",
      "             ('Tres Truck', 0.22798701099640101),\n",
      "             (\"Bowl'd Acai\", 0.22680141983472721),\n",
      "             ('Little Red Riding Truck', 0.2245387949958971),\n",
      "             ('No Worries', 0.2181223013010174),\n",
      "             ('Momolicious', 0.21800706689638616),\n",
      "             ('Kabob Trolley', 0.20958965529856172),\n",
      "             ('Noodle in a Haystack: Paitan / Tan Tan', 0.19258238687354165),\n",
      "             ('Noodle in a Haystack: Spicy Miso Paitan', 0.18919892168851951),\n",
      "             (\"It's All Gravy\", 0.18873358600531617),\n",
      "             ('The Art of Making Chocolate Truffles + Wine & Chocolate Pairing '\n",
      "              'Flight (hands on class)',\n",
      "              0.18772586925643781),\n",
      "             ('Hookt Mini Doughnuts', 0.18734854855248431),\n",
      "             ('Frozen Kuhsterd', 0.18713168817361492),\n",
      "             ('Happy Dumplings', 0.18621222205648291),\n",
      "             ('Impastare: Italy x China II', 0.18413561959991009),\n",
      "             ('Pintxos de Espana', 0.18184115381741364),\n",
      "             ('COOL!NARIA', 0.17722071744755313),\n",
      "             ('Eat Stay Love Lafayette Food Tour', 0.17707194021326633),\n",
      "             ('Vegan Date Night: an LGBT community gathering',\n",
      "              0.17688563964322487),\n",
      "             ('Lobsta Truck', 0.16702454560349447),\n",
      "             ('Curry Up Now', 0.16622144039407161),\n",
      "             ('Kome Sushi Burrito', 0.16522028228679878),\n",
      "             ('Mar y Tierra', 0.16319643545786952),\n",
      "             ('4-Course Seasonal Italian Dinner', 0.16272624926159002),\n",
      "             ('Hangover Cure Mexican Brunch', 0.16173538383961239),\n",
      "             ('ICHIDO Japanese Omakase', 0.16071686977599298),\n",
      "             ('The Silk Road Tacos: \\nMexican Indian Fusion',\n",
      "              0.16055815481622002),\n",
      "             ('Bonito Poke', 0.16034559811653806),\n",
      "             ('Afternoon tea with June', 0.15574278231468572),\n",
      "             ('Istanbul Modern, Spring (10 course)', 0.14377255206479606),\n",
      "             ('4-Course Brunch Without A Line', 0.1429856374673526),\n",
      "             ('Northern Iranian Spring Dinner', 0.14095675767314764),\n",
      "             ('Johnny Doughnuts', 0.14072721581136713),\n",
      "             (\"Lexie's Frozen Custard\", 0.13765866593729445),\n",
      "             ('The Chairman', 0.13646513933356633),\n",
      "             ('Street Steam Bunz', 0.13580592112679735),\n",
      "             ('3-Course Spring Californian Dinner', 0.10911119781377486),\n",
      "             (\"Kara's Cupcakes\", 0.091042465119487673)])\n"
     ]
    }
   ],
   "source": [
    "# def sortDesc(dict_):\n",
    "#     for key, item in dict_.items():\n",
    "#         print(dict_[key])\n",
    "# #         if '' in item:\n",
    "# #             del item['']\n",
    "#         dict_ = sorted(item, key=lambda x: x[1], reverse = True)\n",
    "        \n",
    "# sortDesc(v)\n",
    "from collections import OrderedDict\n",
    "d_descending = OrderedDict(sorted(v.items(), \n",
    "                                  key=lambda kv: kv[1], reverse=True))\n",
    "pprint.pprint(d_descending)\n"
   ]
  },
  {
   "cell_type": "code",
   "execution_count": 207,
   "metadata": {},
   "outputs": [
    {
     "name": "stdout",
     "output_type": "stream",
     "text": [
      "{'budget': 0.1, 'vegan': 0.05, 'vegetarian': 0.05, 'pescatarian': 0.05, 'popularity': 0.1, 'rating': 0.025, 'proximity': 0.025, 'ambience': 0.025, 'menu': 0.025}\n"
     ]
    }
   ],
   "source": [
    "# residual matrix\n",
    "user_resid_keys = ['budget', 'vegan', 'vegetarian', 'pescatarian', 'popularity', 'rating', 'proximity', 'ambience', 'menu']\n",
    "user_resid_weights = [0.1,0.05,0.05,0.05,0.1,0.025,0.025,0.025,0.025]\n",
    "user_residual = dict(zip(user_resid_keys,user_resid_weights))\n",
    "print(user_residual)"
   ]
  },
  {
   "cell_type": "code",
   "execution_count": 209,
   "metadata": {},
   "outputs": [
    {
     "name": "stdout",
     "output_type": "stream",
     "text": [
      "1.6849315068493151 1277.5555555555557 4.98 9.737241549383386 67.72602739726027\n"
     ]
    }
   ],
   "source": [
    "# metrics for normalization by mean\n",
    "def uniq_count(str_):\n",
    "    return len(set(str_.split()))\n",
    "budgetSum = 0\n",
    "popularitySum = 0\n",
    "ratingSum = 0\n",
    "proximitySum = 0\n",
    "menuSum = 0\n",
    "\n",
    "reviewC = 0\n",
    "ratingC = 0\n",
    "locationC = 0\n",
    "\n",
    "for vendor in vendorList:\n",
    "    budgetSum = budgetSum + vendor['price']\n",
    "    popularitySum = popularitySum + vendor['review-count']\n",
    "    if vendor['review-count'] != 0:\n",
    "        reviewC = reviewC + 1\n",
    "    ratingSum = ratingSum + vendor['stars-count']\n",
    "    if vendor['stars-count'] != 0:\n",
    "        ratingC = ratingC + 1\n",
    "    if len(vendor['schedule']) != 0:\n",
    "        proximitySum = proximitySum + distance_calc(user['location']['latitude'],user['location']['longitude'],vendor['schedule'][0]['latitude'],vendor['schedule'][0]['longitude'])\n",
    "        locationC = locationC + 1\n",
    "    menuSum = menuSum + uniq_count(vendor['menu'])\n",
    "\n",
    "budgetAvg = budgetSum/len(vendorList)\n",
    "popularityAvg = popularitySum/reviewC\n",
    "ratingAvg = ratingSum/ratingC\n",
    "proximityAvg = proximitySum/locationC\n",
    "menuAvg = menuSum/len(vendorList)\n",
    "\n",
    "print(budgetAvg, popularityAvg, ratingAvg, proximityAvg, menuAvg)"
   ]
  },
  {
   "cell_type": "code",
   "execution_count": null,
   "metadata": {
    "collapsed": true
   },
   "outputs": [],
   "source": [
    "for vendor in vendorList:\n",
    "    "
   ]
  }
 ],
 "metadata": {
  "kernelspec": {
   "display_name": "Python 3",
   "language": "python",
   "name": "python3"
  },
  "language_info": {
   "codemirror_mode": {
    "name": "ipython",
    "version": 3
   },
   "file_extension": ".py",
   "mimetype": "text/x-python",
   "name": "python",
   "nbconvert_exporter": "python",
   "pygments_lexer": "ipython3",
   "version": "3.6.3"
  }
 },
 "nbformat": 4,
 "nbformat_minor": 2
}
