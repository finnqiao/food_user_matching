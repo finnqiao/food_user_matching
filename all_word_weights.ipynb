{
 "cells": [
  {
   "cell_type": "code",
   "execution_count": 54,
   "metadata": {
    "collapsed": true
   },
   "outputs": [],
   "source": [
    "import pprint as pp\n",
    "import re \n",
    "pattern = re.compile(r'[^A-Za-z\\s]') \n",
    "\n",
    "def word_weights(str_):\n",
    "    str_ = pattern.sub('',str_) \n",
    "    alist = str_.lower().split(\" \")\n",
    "    length = len(alist)\n",
    "    default=0\n",
    "    \n",
    "    dict={}\n",
    "    for i in alist:\n",
    "        if dict.get(i, default)==default:\n",
    "            dict[i]=1/length\n",
    "        else:\n",
    "            dict[i]+=1/length\n",
    "\n",
    "    return dict"
   ]
  },
  {
   "cell_type": "code",
   "execution_count": 47,
   "metadata": {},
   "outputs": [
    {
     "name": "stdout",
     "output_type": "stream",
     "text": [
      "dict_keys(['African', 'EastAsian', 'EasternEuropean', 'LatinAmerican', 'MiddleEastern', 'NorthAmerican', 'NorthernEuropean', 'SouthAsian', 'SoutheastAsian', 'SouthernEuropean', 'WesternEuropean'])\n",
      "dict_keys(['african', 'american', 'chinese', 'french', 'indian', 'italian', 'japanese', 'korean', 'latin_american', 'mediterranean', 'mexican', 'other_asian', 'other_european', 'spanish', 'thai', 'vietnamese', 'middle_eastern'])\n",
      "dict_keys(['african', 'american', 'chinese', 'french', 'indian', 'italian', 'japanese', 'korean', 'latin_american', 'mediterranean', 'mexican', 'other_asian', 'other_european', 'spanish', 'thai', 'vietnamese', 'middle_eastern'])\n"
     ]
    }
   ],
   "source": [
    "%store -r word_base\n",
    "print(word_base.keys())\n",
    "%store -r yummly_words\n",
    "print(yummly_words.keys())\n",
    "%store -r kaggle_words\n",
    "print(kaggle_words.keys())"
   ]
  },
  {
   "cell_type": "code",
   "execution_count": 48,
   "metadata": {},
   "outputs": [
    {
     "name": "stdout",
     "output_type": "stream",
     "text": [
      "dict_keys(['african', 'american', 'chinese', 'french', 'indian', 'italian', 'japanese', 'latin_american', 'mediterranean', 'mexican', 'other_asian', 'other_european', 'spanish', 'thai', 'vietnamese', 'korean', 'middle_eastern'])\n"
     ]
    }
   ],
   "source": [
    "all_cuisine_words = dict.fromkeys(['african', 'american', 'chinese', 'french', 'indian', 'italian', 'japanese', 'latin_american', 'mediterranean', 'mexican', 'other_asian', 'other_european', 'spanish', 'thai', 'vietnamese','korean','middle_eastern'])\n",
    "all_cuisine_words[\"african\"] = word_base['African'] + ' ' + yummly_words['african'] + ' ' + kaggle_words['african']+ ' ' \n",
    "all_cuisine_words[\"american\"] = word_base['NorthAmerican'] + ' ' + yummly_words['american'] + ' ' + kaggle_words['american']+ ' ' \n",
    "all_cuisine_words[\"chinese\"] = word_base['EastAsian'] + ' ' + yummly_words['chinese'] + ' ' + kaggle_words['chinese']+ ' ' \n",
    "all_cuisine_words[\"french\"] = word_base['WesternEuropean'] + ' ' + word_base['SouthernEuropean'] + ' ' + yummly_words['french'] + ' ' + kaggle_words['french']+ ' ' \n",
    "all_cuisine_words[\"indian\"] = word_base['SouthAsian'] + ' ' + yummly_words['indian'] + ' ' + kaggle_words['indian']+ ' ' \n",
    "all_cuisine_words[\"italian\"] = word_base['WesternEuropean'] + ' ' + word_base['SouthernEuropean'] + ' ' + yummly_words['italian'] + ' ' + kaggle_words['italian']+ ' ' \n",
    "all_cuisine_words[\"japanese\"] = word_base['EastAsian'] + ' ' + yummly_words['japanese'] + ' ' + kaggle_words['japanese']+ ' ' \n",
    "all_cuisine_words[\"latin_american\"] = word_base['LatinAmerican'] + ' ' + yummly_words['latin_american'] + ' ' + kaggle_words['latin_american']+ ' ' \n",
    "all_cuisine_words[\"mediterranean\"] = word_base['EasternEuropean'] + ' ' + word_base['SouthernEuropean'] + ' ' + yummly_words['mediterranean'] + ' ' + kaggle_words['mediterranean']+ ' ' \n",
    "all_cuisine_words[\"mexican\"] = word_base['LatinAmerican'] + ' ' + yummly_words[\"mexican\"] + ' ' + kaggle_words[\"mexican\"]+ ' ' \n",
    "all_cuisine_words[\"other_asian\"] = word_base['EastAsian'] + ' ' + word_base['SoutheastAsian'] + ' ' + yummly_words[\"other_asian\"] + ' ' + kaggle_words[\"other_asian\"]+ ' ' \n",
    "all_cuisine_words[\"other_european\"] = word_base['WesternEuropean'] + ' ' + word_base['NorthernEuropean'] + ' ' + yummly_words[\"other_european\"] + ' ' + kaggle_words[\"other_european\"]+ ' ' \n",
    "all_cuisine_words[\"spanish\"] = word_base['SouthernEuropean'] + ' ' + yummly_words[\"spanish\"] + ' ' + kaggle_words[\"spanish\"]+ ' ' \n",
    "all_cuisine_words[\"thai\"] = word_base['SoutheastAsian'] + ' ' + yummly_words['thai'] + ' ' + kaggle_words['thai']+ ' ' \n",
    "all_cuisine_words[\"vietnamese\"] = word_base['SoutheastAsian'] + ' ' + yummly_words[\"vietnamese\"] + ' ' + kaggle_words[\"vietnamese\"]+ ' ' \n",
    "all_cuisine_words[\"korean\"] = word_base['EastAsian'] + ' ' + yummly_words[\"korean\"] + ' ' + kaggle_words['korean']+ ' ' \n",
    "all_cuisine_words[\"middle_eastern\"] = word_base['MiddleEastern'] + ' ' + yummly_words[\"middle_eastern\"] + ' ' + kaggle_words[\"middle_eastern\"]+ ' ' \n",
    "print(all_cuisine_words.keys())"
   ]
  },
  {
   "cell_type": "code",
   "execution_count": 58,
   "metadata": {},
   "outputs": [
    {
     "name": "stdout",
     "output_type": "stream",
     "text": [
      "african\n",
      "american\n",
      "chinese\n",
      "french\n",
      "indian\n",
      "italian\n",
      "japanese\n",
      "latin_american\n",
      "mediterranean\n",
      "mexican\n",
      "other_asian\n",
      "other_european\n",
      "spanish\n",
      "thai\n",
      "vietnamese\n",
      "korean\n",
      "middle_eastern\n"
     ]
    }
   ],
   "source": [
    "cuisine_word_weights = dict.fromkeys(all_cuisine_words.keys())\n",
    "for x in cuisine_word_weights:\n",
    "    x = {}\n",
    "for cuisine in all_cuisine_words:\n",
    "    print(cuisine)\n",
    "    cuisine_word_weights[cuisine] = word_weights(all_cuisine_words[cuisine])\n",
    "\n",
    "for key, item in cuisine_word_weights.items():\n",
    "    if '' in item:\n",
    "        del item['']\n",
    "    cuisine_word_weights[key] = sorted(item.items(), key=lambda x: x[1], reverse = True)"
   ]
  },
  {
   "cell_type": "code",
   "execution_count": 59,
   "metadata": {},
   "outputs": [
    {
     "name": "stdout",
     "output_type": "stream",
     "text": [
      "Stored 'cuisine_word_weights' (dict)\n"
     ]
    }
   ],
   "source": [
    "%store cuisine_word_weights"
   ]
  }
 ],
 "metadata": {
  "kernelspec": {
   "display_name": "Python 3",
   "language": "python",
   "name": "python3"
  },
  "language_info": {
   "codemirror_mode": {
    "name": "ipython",
    "version": 3
   },
   "file_extension": ".py",
   "mimetype": "text/x-python",
   "name": "python",
   "nbconvert_exporter": "python",
   "pygments_lexer": "ipython3",
   "version": "3.6.3"
  }
 },
 "nbformat": 4,
 "nbformat_minor": 2
}
