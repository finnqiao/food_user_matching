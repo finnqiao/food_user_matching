{
 "cells": [
  {
   "cell_type": "code",
   "execution_count": 40,
   "metadata": {
    "collapsed": true
   },
   "outputs": [],
   "source": [
    "from bs4 import BeautifulSoup\n",
    "import urllib\n",
    "import re\n",
    "import requests\n",
    "from urllib.request import Request, urlopen\n",
    "import numpy as np\n",
    "from selenium import webdriver \n",
    "browser = webdriver.Chrome(executable_path=\"/Users/finn/Munchmates/food_user_matching/chromedriver\") #replace with .Firefox(), or with the browser of your choice\n",
    "url = \"https://offthegrid.com/creator/el-sur/\"\n",
    "\n",
    "browser.get(url) #navigate to page behind login\n",
    "innerHTML = browser.execute_script(\"return document.body.innerHTML\")"
   ]
  },
  {
   "cell_type": "code",
   "execution_count": 41,
   "metadata": {},
   "outputs": [],
   "source": [
    "soup = BeautifulSoup(innerHTML, \"html.parser\")"
   ]
  },
  {
   "cell_type": "code",
   "execution_count": 42,
   "metadata": {},
   "outputs": [
    {
     "data": {
      "text/plain": [
       "bs4.BeautifulSoup"
      ]
     },
     "execution_count": 42,
     "metadata": {},
     "output_type": "execute_result"
    }
   ],
   "source": [
    "type(soup)"
   ]
  },
  {
   "cell_type": "code",
   "execution_count": 55,
   "metadata": {},
   "outputs": [
    {
     "name": "stdout",
     "output_type": "stream",
     "text": [
      "Presidio Picnic\n",
      "Menlo Park\n",
      "Civic Center Truck Spot\n"
     ]
    }
   ],
   "source": [
    "for x in soup.select('.events-wrap .grid-item-card .location'):\n",
    "    print (x.text)"
   ]
  },
  {
   "cell_type": "code",
   "execution_count": 56,
   "metadata": {},
   "outputs": [
    {
     "name": "stdout",
     "output_type": "stream",
     "text": [
      "Main Parade Ground, San Francisco\n",
      "1120 Merrill St, Menlo Park\n",
      "355 McAllister, san francisco\n"
     ]
    }
   ],
   "source": [
    "for x in soup.select('.events-wrap .grid-item-card .event-where'):\n",
    "    print (x.text)"
   ]
  },
  {
   "cell_type": "code",
   "execution_count": 62,
   "metadata": {},
   "outputs": [
    {
     "name": "stdout",
     "output_type": "stream",
     "text": [
      "4/22\n",
      "4/29\n",
      "5/2\n",
      "4/25\n"
     ]
    }
   ],
   "source": [
    "for x in soup.select('.events-wrap .grid-item-card .upcoming__date'):\n",
    "    print (x.text)"
   ]
  },
  {
   "cell_type": "code",
   "execution_count": 101,
   "metadata": {},
   "outputs": [
    {
     "name": "stdout",
     "output_type": "stream",
     "text": [
      "Sun\n",
      "4/22\n",
      "11-4pm\n",
      "Sun\n",
      "4/29\n",
      "11-4pm\n",
      "Wed\n",
      "5/2\n",
      "5-9pm\n",
      "Wed\n",
      "4/25\n",
      "11-2pm\n"
     ]
    }
   ],
   "source": [
    "for x in soup.select('.events-wrap .grid-item-card li span'):\n",
    "    print (x.text)"
   ]
  },
  {
   "cell_type": "code",
   "execution_count": 143,
   "metadata": {},
   "outputs": [
    {
     "name": "stdout",
     "output_type": "stream",
     "text": [
      "{'location': None, 'specLocation': None, 'times': {'day': [], 'date': [], 'time': []}}\n"
     ]
    }
   ],
   "source": [
    "eventVars = ['location', 'specLocation', 'times']\n",
    "timeVars = ['day', 'date', 'time']\n",
    "\n",
    "timeObj = dict.fromkeys(timeVars)\n",
    "timeObj['day'] = []\n",
    "timeObj['date'] = []\n",
    "timeObj['time'] = []\n",
    "eventObj = dict.fromkeys(eventVars)\n",
    "eventObj['times'] = timeObj\n",
    "print(eventObj)"
   ]
  },
  {
   "cell_type": "code",
   "execution_count": 144,
   "metadata": {},
   "outputs": [
    {
     "name": "stdout",
     "output_type": "stream",
     "text": [
      "{'location': 'Presidio Picnic', 'specLocation': 'Main Parade Ground, San Francisco', 'times': {'day': ['Sun', 'Sun'], 'date': ['4/22', '4/29'], 'time': ['11-4pm', '11-4pm']}}\n",
      "{'location': 'Menlo Park', 'specLocation': '1120 Merrill St, Menlo Park', 'times': {'day': ['Wed'], 'date': ['5/2'], 'time': ['5-9pm']}}\n",
      "{'location': 'Civic Center Truck Spot', 'specLocation': '355 McAllister, san francisco', 'times': {'day': ['Wed'], 'date': ['4/25'], 'time': ['11-2pm']}}\n"
     ]
    }
   ],
   "source": [
    "for location in soup.select('.events-wrap .grid-item-card'):\n",
    "    eventObj['times']['day'] = []\n",
    "    eventObj['times']['date'] = []\n",
    "    eventObj['times']['time'] = []\n",
    "    eventObj['location']= location.select('.location')[0].text\n",
    "    eventObj['specLocation'] = location.select('.event-where')[0].text\n",
    "    for time in location.select('ul li'):\n",
    "#         eventObj['times']['day'].append()\n",
    "#         eventObj['times']['date'].append()\n",
    "#         eventObj['times']['time'].append()\n",
    "        if len(time.select('.upcoming__day'))>0:\n",
    "            eventObj['times']['day'].append(time.select('.upcoming__day')[0].text)\n",
    "        if len(time.select('.upcoming__day'))>0:\n",
    "            eventObj['times']['date'].append(time.select('.upcoming__date')[0].text)\n",
    "        if len(time.select('.upcoming__time'))>0:\n",
    "            eventObj['times']['time'].append(time.select('.upcoming__time')[0].text)\n",
    "    print(eventObj)\n",
    "    \n",
    "    \n",
    "#     for eventList in x.select('li'):\n",
    "#         print(location)\n",
    "#         for day in eventList.select('.upcoming__day'):\n",
    "#             print(day.text)\n",
    "#         for date in eventList.select('.upcoming__date'):\n",
    "#             print(date.text)\n",
    "#         for time in eventList.select('.upcoming__time'):\n",
    "#             print(time.text)"
   ]
  },
  {
   "cell_type": "code",
   "execution_count": null,
   "metadata": {
    "collapsed": true
   },
   "outputs": [],
   "source": []
  },
  {
   "cell_type": "code",
   "execution_count": null,
   "metadata": {
    "collapsed": true
   },
   "outputs": [],
   "source": []
  },
  {
   "cell_type": "code",
   "execution_count": null,
   "metadata": {
    "collapsed": true
   },
   "outputs": [],
   "source": []
  },
  {
   "cell_type": "code",
   "execution_count": null,
   "metadata": {
    "collapsed": true
   },
   "outputs": [],
   "source": []
  },
  {
   "cell_type": "code",
   "execution_count": null,
   "metadata": {
    "collapsed": true
   },
   "outputs": [],
   "source": []
  },
  {
   "cell_type": "code",
   "execution_count": 53,
   "metadata": {},
   "outputs": [
    {
     "name": "stdout",
     "output_type": "stream",
     "text": [
      "Churros with dulce de leche\n",
      "PARISIEN EMPANADAS\n",
      "VERDE EMPANADAS\n",
      "TRADITIONAL EMPANADAS\n",
      "Grilled Chicken Skewers\n",
      "POLLO SALTADO EMPANADAS\n",
      "Alfajores\n",
      "Grilled Vegetable Skewers\n",
      "Mixed Greens\n",
      "Braised Short Rib Skewers\n",
      "Ensalada Rusa\n",
      "CHAMPIÑONES EMPANADAS\n"
     ]
    }
   ],
   "source": [
    "for x in soup.select('.menu .grid-item-card header'):\n",
    "    print (x.text)"
   ]
  },
  {
   "cell_type": "code",
   "execution_count": 54,
   "metadata": {},
   "outputs": [
    {
     "name": "stdout",
     "output_type": "stream",
     "text": [
      "Churros filled with homemade dulce de leche \n",
      "Country Ham, Prosciutto, Green Onion, Five Cheeses, Chive\n",
      "Swiss Chard, Spinach, Green Onion, Five Cheeses, Olive, Egg\n",
      "Hand cut Five Dot Ranch Beef, Onion, Oregano, Pimenton, Olive, Egg\n",
      "Grilled Chicken, Lemon Crema, Roasted Vegetable Salsa\n",
      "Organic Chicken, Onions, Tomatoes, Serranos, Olives, Egg\n",
      "Shortbread cookies with Dulce de Leche\n",
      "Grilled Seasonal Vegetables, Balsamic Glaze\n",
      "Mixed Greens with Shaved Fennel and Radish in Shallot-Dijon Vinaigrette\n",
      "Malbec Braised Short Ribs, Pickled Red Onion, Chimichurri\n",
      "Yukon Gold Potatoes, Peas and Carrots Tossed in Lemon Aioli\n",
      "Sliced Mushrooms, Shallots, Crème Fraîche, Provolone, Chive\n"
     ]
    }
   ],
   "source": [
    "for x in soup.select('.menu .grid-item-card .content'):\n",
    "    print (x.text)"
   ]
  },
  {
   "cell_type": "code",
   "execution_count": null,
   "metadata": {
    "collapsed": true
   },
   "outputs": [],
   "source": []
  },
  {
   "cell_type": "code",
   "execution_count": null,
   "metadata": {
    "collapsed": true
   },
   "outputs": [],
   "source": []
  }
 ],
 "metadata": {
  "kernelspec": {
   "display_name": "Python 3",
   "language": "python",
   "name": "python3"
  },
  "language_info": {
   "codemirror_mode": {
    "name": "ipython",
    "version": 3
   },
   "file_extension": ".py",
   "mimetype": "text/x-python",
   "name": "python",
   "nbconvert_exporter": "python",
   "pygments_lexer": "ipython3",
   "version": "3.6.3"
  }
 },
 "nbformat": 4,
 "nbformat_minor": 2
}
