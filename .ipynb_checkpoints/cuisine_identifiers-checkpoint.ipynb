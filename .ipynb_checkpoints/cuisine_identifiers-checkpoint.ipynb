{
 "cells": [
  {
   "cell_type": "code",
   "execution_count": 4,
   "metadata": {
    "collapsed": true
   },
   "outputs": [],
   "source": [
    "import math\n",
    "import numpy as np\n",
    "import pandas as pd\n",
    "import sklearn\n",
    "import csv"
   ]
  },
  {
   "cell_type": "code",
   "execution_count": 5,
   "metadata": {
    "collapsed": true
   },
   "outputs": [],
   "source": [
    "cuisines = ['African','EastAsian','EasternEuropean','LatinAmerican','MiddleEastern','NorthAmerican','NorthernEuropean','SouthAsian','SoutheastAsian','SouthernEuropean','WesternEuropean']"
   ]
  },
  {
   "cell_type": "code",
   "execution_count": 6,
   "metadata": {},
   "outputs": [
    {
     "name": "stdout",
     "output_type": "stream",
     "text": [
      "African\n",
      "EastAsian\n",
      "EasternEuropean\n",
      "LatinAmerican\n",
      "MiddleEastern\n",
      "NorthAmerican\n",
      "NorthernEuropean\n",
      "SouthAsian\n",
      "SoutheastAsian\n",
      "SouthernEuropean\n",
      "WesternEuropean\n",
      "352\n",
      "0\n",
      "0\n",
      "[352, 0, 0, 0, 0, 0, 0, 0, 0, 0, 0]\n"
     ]
    }
   ],
   "source": [
    "with open('flavor_network.csv', newline='') as csvfile:\n",
    "    r = csv.reader(csvfile, delimiter=' ', quotechar='|')\n",
    "    count = []\n",
    "    for num in range(len(cuisines)):\n",
    "        count.append(0)\n",
    "        print(cuisines[num])\n",
    "        for line in r:\n",
    "            if line[0].split(',')[0] == cuisines[num]:\n",
    "                count[num] = count[num] + 1\n",
    "    print(count[0])\n",
    "    print(count[1])\n",
    "    print(count[2])\n",
    "    print(count)"
   ]
  },
  {
   "cell_type": "code",
   "execution_count": 7,
   "metadata": {},
   "outputs": [
    {
     "name": "stdout",
     "output_type": "stream",
     "text": [
      "Cuisine 1: African\n",
      "Cuisine 2: EastAsian\n",
      "Cuisine 3: EasternEuropean\n",
      "Cuisine 4: LatinAmerican\n",
      "Cuisine 5: MiddleEastern\n",
      "Cuisine 6: NorthAmerican\n",
      "Cuisine 7: NorthernEuropean\n",
      "Cuisine 8: SouthAsian\n",
      "Cuisine 9: SoutheastAsian\n",
      "Cuisine 10: SouthernEuropean\n",
      "Cuisine 11: WesternEuropean\n"
     ]
    }
   ],
   "source": [
    "cuisines = ['African','EastAsian','EasternEuropean','LatinAmerican','MiddleEastern','NorthAmerican','NorthernEuropean','SouthAsian','SoutheastAsian','SouthernEuropean','WesternEuropean']\n",
    "num = 1\n",
    "for cuisine in cuisines:\n",
    "    print(\"Cuisine \" + str(num) +\": \" + cuisine)\n",
    "    num = num + 1"
   ]
  },
  {
   "cell_type": "code",
   "execution_count": 8,
   "metadata": {
    "collapsed": true
   },
   "outputs": [],
   "source": [
    "cuisine_list = []\n",
    "ingred_list = []\n",
    "with open('flavor_network.csv', newline='') as csvfile:\n",
    "    r = csv.reader(csvfile, delimiter=' ', quotechar='|')\n",
    "    for line in r:\n",
    "        cuisine = line[0].split(',')[0]\n",
    "        cuisine_list.append(cuisine)\n",
    "        \n",
    "        ingred = (' ').join(line[0].split(',')[1:]).replace('_',' ')\n",
    "        ingred_list.append(ingred)\n",
    "\n",
    "        \n",
    "df = pd.DataFrame({'cuisines':cuisine_list,'ingredients':ingred_list})"
   ]
  },
  {
   "cell_type": "code",
   "execution_count": 9,
   "metadata": {},
   "outputs": [
    {
     "name": "stdout",
     "output_type": "stream",
     "text": [
      "African\n",
      "EastAsian\n",
      "EasternEuropean\n",
      "LatinAmerican\n",
      "MiddleEastern\n",
      "NorthAmerican\n",
      "NorthernEuropean\n",
      "SouthAsian\n",
      "SoutheastAsian\n",
      "SouthernEuropean\n",
      "WesternEuropean\n"
     ]
    },
    {
     "ename": "AttributeError",
     "evalue": "'DataFrame' object has no attribute 'str'",
     "output_type": "error",
     "traceback": [
      "\u001b[0;31m---------------------------------------------------------------------------\u001b[0m",
      "\u001b[0;31mAttributeError\u001b[0m                            Traceback (most recent call last)",
      "\u001b[0;32m<ipython-input-9-b11081244409>\u001b[0m in \u001b[0;36m<module>\u001b[0;34m()\u001b[0m\n\u001b[1;32m      4\u001b[0m \u001b[0;34m\u001b[0m\u001b[0m\n\u001b[1;32m      5\u001b[0m \u001b[0mingred_words\u001b[0m \u001b[0;34m=\u001b[0m \u001b[0;34m''\u001b[0m\u001b[0;34m\u001b[0m\u001b[0m\n\u001b[0;32m----> 6\u001b[0;31m \u001b[0mdf\u001b[0m\u001b[0;34m.\u001b[0m\u001b[0mwhere\u001b[0m\u001b[0;34m(\u001b[0m\u001b[0mdf\u001b[0m\u001b[0;34m[\u001b[0m\u001b[0;34m'cuisines'\u001b[0m\u001b[0;34m]\u001b[0m\u001b[0;34m==\u001b[0m\u001b[0;34m'African'\u001b[0m\u001b[0;34m)\u001b[0m\u001b[0;34m.\u001b[0m\u001b[0mstr\u001b[0m\u001b[0;34m.\u001b[0m\u001b[0mcat\u001b[0m\u001b[0;34m(\u001b[0m\u001b[0msep\u001b[0m\u001b[0;34m=\u001b[0m\u001b[0;34m' '\u001b[0m\u001b[0;34m)\u001b[0m\u001b[0;34m\u001b[0m\u001b[0m\n\u001b[0m",
      "\u001b[0;32m/Applications/anaconda3/lib/python3.6/site-packages/pandas/core/generic.py\u001b[0m in \u001b[0;36m__getattr__\u001b[0;34m(self, name)\u001b[0m\n\u001b[1;32m   3079\u001b[0m             \u001b[0;32mif\u001b[0m \u001b[0mname\u001b[0m \u001b[0;32min\u001b[0m \u001b[0mself\u001b[0m\u001b[0;34m.\u001b[0m\u001b[0m_info_axis\u001b[0m\u001b[0;34m:\u001b[0m\u001b[0;34m\u001b[0m\u001b[0m\n\u001b[1;32m   3080\u001b[0m                 \u001b[0;32mreturn\u001b[0m \u001b[0mself\u001b[0m\u001b[0;34m[\u001b[0m\u001b[0mname\u001b[0m\u001b[0;34m]\u001b[0m\u001b[0;34m\u001b[0m\u001b[0m\n\u001b[0;32m-> 3081\u001b[0;31m             \u001b[0;32mreturn\u001b[0m \u001b[0mobject\u001b[0m\u001b[0;34m.\u001b[0m\u001b[0m__getattribute__\u001b[0m\u001b[0;34m(\u001b[0m\u001b[0mself\u001b[0m\u001b[0;34m,\u001b[0m \u001b[0mname\u001b[0m\u001b[0;34m)\u001b[0m\u001b[0;34m\u001b[0m\u001b[0m\n\u001b[0m\u001b[1;32m   3082\u001b[0m \u001b[0;34m\u001b[0m\u001b[0m\n\u001b[1;32m   3083\u001b[0m     \u001b[0;32mdef\u001b[0m \u001b[0m__setattr__\u001b[0m\u001b[0;34m(\u001b[0m\u001b[0mself\u001b[0m\u001b[0;34m,\u001b[0m \u001b[0mname\u001b[0m\u001b[0;34m,\u001b[0m \u001b[0mvalue\u001b[0m\u001b[0;34m)\u001b[0m\u001b[0;34m:\u001b[0m\u001b[0;34m\u001b[0m\u001b[0m\n",
      "\u001b[0;31mAttributeError\u001b[0m: 'DataFrame' object has no attribute 'str'"
     ]
    }
   ],
   "source": [
    "cuisine_list = df.cuisines.unique()\n",
    "for cuisine in cuisine_list:\n",
    "    print(cuisine)\n",
    "    \n",
    "ingred_words = ''\n",
    "df.where(df['cuisines']=='African').str.cat(sep=' ')"
   ]
  },
  {
   "cell_type": "code",
   "execution_count": null,
   "metadata": {
    "collapsed": true
   },
   "outputs": [],
   "source": [
    "df2 = df.groupby('cuisines')\n",
    "df2.describe()\n",
    "x = df2.sum()"
   ]
  },
  {
   "cell_type": "code",
   "execution_count": null,
   "metadata": {},
   "outputs": [],
   "source": [
    "print(x)"
   ]
  },
  {
   "cell_type": "code",
   "execution_count": null,
   "metadata": {},
   "outputs": [],
   "source": [
    "# print(x.ingredients['African'])\n",
    "ingred_word_cloud = []\n",
    "for i in range(len(cuisine_list)):\n",
    "    ingred_word_cloud.append(x.ingredients[i])\n",
    "\n",
    "print(len(cuisine_list))\n",
    "print(len(ingred_word_cloud))\n",
    "ingred_df = pd.DataFrame({'cuisines':cuisine_list,'ingreds':ingred_word_cloud})\n",
    "ingred_df.head()"
   ]
  },
  {
   "cell_type": "code",
   "execution_count": null,
   "metadata": {
    "collapsed": true
   },
   "outputs": [],
   "source": [
    "from collections import defaultdict\n",
    "from sklearn.feature_extraction.text import TfidfVectorizer\n",
    "tf = TfidfVectorizer(analyzer='word', ngram_range=(1,3), min_df = 0, stop_words = 'english')"
   ]
  },
  {
   "cell_type": "code",
   "execution_count": null,
   "metadata": {},
   "outputs": [],
   "source": [
    "tfidf_matrix = tf.fit_transform(ingred_word_cloud)\n",
    "feature_names = tf.get_feature_names()\n",
    "len(feature_names)"
   ]
  },
  {
   "cell_type": "code",
   "execution_count": null,
   "metadata": {},
   "outputs": [],
   "source": [
    "tfidf_matrix"
   ]
  },
  {
   "cell_type": "code",
   "execution_count": null,
   "metadata": {},
   "outputs": [],
   "source": [
    "dataset2 = pd.read_json('train.json')\n",
    "dataset3 = pd.read_json('test.json')\n",
    "dataset4 = pd.concat([dataset2,dataset3])\n",
    "for cuisine in dataset4.cuisine.unique():\n",
    "    print(cuisine)"
   ]
  },
  {
   "cell_type": "code",
   "execution_count": null,
   "metadata": {},
   "outputs": [],
   "source": [
    "dataset4.head()"
   ]
  },
  {
   "cell_type": "code",
   "execution_count": null,
   "metadata": {},
   "outputs": [],
   "source": [
    "cuisine_list2 = []\n",
    "ingred_list2 = []\n",
    "with open('flavor_network.csv', newline='') as csvfile:\n",
    "    r = csv.reader(csvfile, delimiter=' ', quotechar='|')\n",
    "    for line in r:\n",
    "        cuisine = line[0].split(',')[0]\n",
    "        cuisine_list.append(cuisine)\n",
    "        \n",
    "        ingred = (' ').join(line[0].split(',')[1:]).replace('_',' ')\n",
    "        ingred_list.append(ingred)\n",
    "\n",
    "        \n",
    "df = pd.DataFrame({'cuisines':cuisine_list,'ingredients':ingred_list})"
   ]
  }
 ],
 "metadata": {
  "kernelspec": {
   "display_name": "Python 3",
   "language": "python",
   "name": "python3"
  },
  "language_info": {
   "codemirror_mode": {
    "name": "ipython",
    "version": 3
   },
   "file_extension": ".py",
   "mimetype": "text/x-python",
   "name": "python",
   "nbconvert_exporter": "python",
   "pygments_lexer": "ipython3",
   "version": "3.6.3"
  }
 },
 "nbformat": 4,
 "nbformat_minor": 2
}
