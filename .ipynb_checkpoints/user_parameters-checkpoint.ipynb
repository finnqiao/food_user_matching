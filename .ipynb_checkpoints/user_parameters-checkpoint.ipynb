{
 "cells": [
  {
   "cell_type": "code",
   "execution_count": 4,
   "metadata": {},
   "outputs": [
    {
     "name": "stdout",
     "output_type": "stream",
     "text": [
      "dict_keys(['Advanced', 'Expert', 'Intermediate', 'Novice'])\n"
     ]
    }
   ],
   "source": [
    "%store -r gender_vector\n",
    "%store -r age_vector\n",
    "%store -r knowledge_vector\n",
    "\n",
    "import re\n",
    "def cross_weight(d1, d2):\n",
    "    default=1 \n",
    "    ret=0;\n",
    "    for i in d1.keys():\n",
    "        if(d2.get(i,default)==default):\n",
    "            continue\n",
    "        else:\n",
    "            ret+=d1[i]*d2[i]\n",
    "\n",
    "    return ret\n",
    "pattern = re.compile(r'[^A-Za-z\\s]') \n",
    "def word_weights(str_):\n",
    "    str_ = pattern.sub('',str_) \n",
    "    alist = str_.lower().split(\" \")\n",
    "    length = len(alist)\n",
    "    default=0\n",
    "    \n",
    "    dict={}\n",
    "    for i in alist:\n",
    "        if dict.get(i, default)==default:\n",
    "            dict[i]=1/length\n",
    "        else:\n",
    "            dict[i]+=1/length\n",
    "\n",
    "    return dict"
   ]
  },
  {
   "cell_type": "code",
   "execution_count": 5,
   "metadata": {
    "collapsed": true
   },
   "outputs": [],
   "source": [
    "from math import sin, cos, sqrt, atan2, radians, ceil\n",
    "# approximate radius of earth in km\n",
    "R = 6373.0\n",
    "\n",
    "def distance_calc(lat1,lon1,lat2,lon2):\n",
    "    \n",
    "    lat1 = radians(lat1)\n",
    "    lon1 = radians(lon1)\n",
    "    lat2 = radians(lat2)\n",
    "    lon2 = radians(lon2)\n",
    "\n",
    "    dlon = lon2 - lon1\n",
    "    dlat = lat2 - lat1\n",
    "\n",
    "    a = sin(dlat / 2)**2 + cos(lat1) * cos(lat2) * sin(dlon / 2)**2\n",
    "    c = 2 * atan2(sqrt(a), sqrt(1 - a))\n",
    "\n",
    "    distance = R * c\n",
    "    \n",
    "    return distance\n",
    "\n",
    "# distance_calc(user['location']['latitude'],user['location']['longitude'],user['curLocation']['latitude'],user['curLocation']['longitude'])"
   ]
  },
  {
   "cell_type": "code",
   "execution_count": 6,
   "metadata": {
    "collapsed": true
   },
   "outputs": [],
   "source": [
    "def simplify(str_):\n",
    "    str_ = pattern.sub('',str_) \n",
    "    alist = str_.lower().split(\" \")\n",
    "    str_ = '_'.join(alist)\n",
    "    return str_"
   ]
  },
  {
   "cell_type": "code",
   "execution_count": 57,
   "metadata": {},
   "outputs": [
    {
     "name": "stdout",
     "output_type": "stream",
     "text": [
      "female =  {'african': 1.6887626262626264e-05, 'american': 0.00036931818181818181, 'chinese': 0.00027367424242424242, 'french': 0.00021609848484848486, 'indian': 0.00016628787878787877, 'italian': 0.00035340909090909091, 'japanese': 0.00022064393939393939, 'korean': 6.4962121212121211e-05, 'latin_american': 4.4044612794612797e-05, 'mediterranean': 8.8320707070707073e-05, 'mexican': 0.00032083333333333334, 'other_asian': 0.00010089962121212121, 'other_european': 0.00013582702020202022, 'spanish': 0.00010359848484848485, 'thai': 0.00016306818181818184, 'vietnamese': 0.00010056818181818182, 'middle_eastern': 2.4621212121212119e-05}\n",
      "{'african': 1.925014392630973e-05, 'american': 0.00042098445595854919, 'chinese': 0.00031196027633851469, 'french': 0.00024632987910189983, 'indian': 0.00018955094991364419, 'italian': 0.00040284974093264254, 'japanese': 0.00025151122625215893, 'korean': 7.4050086355785842e-05, 'latin_american': 5.0206294377278833e-05, 'mediterranean': 0.00010067645365572827, 'mexican': 0.00036571675302245248, 'other_asian': 0.00011501511226252158, 'other_european': 0.00015482872769142199, 'spanish': 0.0001180915371329879, 'thai': 0.00018588082901554404, 'vietnamese': 0.00011463730569948186, 'middle_eastern': 2.8065630397236616e-05}\n",
      "{'african': 4.2541348600508897e-05, 'american': 0.00093034351145038165, 'chinese': 0.00068940839694656489, 'french': 0.00054437022900763357, 'indian': 0.00041889312977099239, 'italian': 0.00089026717557251901, 'japanese': 0.00055582061068702292, 'korean': 0.00016364503816793891, 'latin_american': 0.00011095207803223071, 'mediterranean': 0.00022248727735368955, 'mexican': 0.00080820610687022893, 'other_asian': 0.00025417461832061066, 'other_european': 0.00034215966921119593, 'spanish': 0.00026097328244274807, 'thai': 0.00041078244274809161, 'vietnamese': 0.00025333969465648852, 'middle_eastern': 6.2022900763358783e-05}\n",
      "{'african': 4.2541348600508897e-05, 'american': 0.00093034351145038165, 'chinese': 0.00068940839694656489, 'french': 0.00054437022900763357, 'indian': 0.00041889312977099239, 'italian': 0.00089026717557251901, 'japanese': 0.00055582061068702292, 'korean': 0.00016364503816793891, 'latin_american': 0.00011095207803223071, 'mediterranean': 0.00022248727735368955, 'mexican': 0.00080820610687022893, 'other_asian': 0.00025417461832061066, 'other_european': 0.00034215966921119593, 'spanish': 0.00026097328244274807, 'thai': 0.00041078244274809161, 'vietnamese': 0.00025333969465648852, 'middle_eastern': 6.2022900763358783e-05}\n",
      "{'african': 3.6305646036916392e-05, 'american': 0.00079397394136807812, 'chinese': 0.0005883550488599348, 'french': 0.00046457654723127041, 'indian': 0.00035749185667752447, 'italian': 0.00075977198697068401, 'japanese': 0.00047434853420195441, 'korean': 0.00013965798045602605, 'latin_american': 9.4688744118711553e-05, 'mediterranean': 0.00018987513572204127, 'mexican': 0.00068973941368078177, 'other_asian': 0.00021691775244299675, 'other_european': 0.00029200597176981541, 'spanish': 0.00022271986970684039, 'thai': 0.0003505700325732899, 'vietnamese': 0.00021620521172638436, 'middle_eastern': 5.293159609120521e-05}\n",
      "{'african': 3.2306763285024153e-05, 'american': 0.00070652173913043469, 'chinese': 0.00052355072463768115, 'french': 0.00041340579710144923, 'indian': 0.00031811594202898552, 'italian': 0.0006760869565217391, 'japanese': 0.00042210144927536233, 'korean': 0.00012427536231884059, 'latin_american': 8.4259259259259251e-05, 'mediterranean': 0.00016896135265700483, 'mexican': 0.00061376811594202898, 'other_asian': 0.00019302536231884058, 'other_european': 0.00025984299516908211, 'spanish': 0.00019818840579710143, 'thai': 0.00031195652173913042, 'vietnamese': 0.00019239130434782608, 'middle_eastern': 4.7101449275362324e-05}\n",
      "{'african': 3.2306763285024153e-05, 'american': 0.00070652173913043469, 'chinese': 0.00052355072463768115, 'french': 0.00041340579710144923, 'indian': 0.00031811594202898552, 'italian': 0.0006760869565217391, 'japanese': 0.00042210144927536233, 'korean': 0.00012427536231884059, 'latin_american': 8.4259259259259251e-05, 'mediterranean': 0.00016896135265700483, 'mexican': 0.00061376811594202898, 'other_asian': 0.00019302536231884058, 'other_european': 0.00025984299516908211, 'spanish': 0.00019818840579710143, 'thai': 0.00031195652173913042, 'vietnamese': 0.00019239130434782608, 'middle_eastern': 4.7101449275362324e-05}\n",
      "{'african': 3.4294871794871794e-05, 'american': 0.00075000000000000002, 'chinese': 0.00055576923076923078, 'french': 0.00043884615384615381, 'indian': 0.00033769230769230767, 'italian': 0.00071769230769230764, 'japanese': 0.00044807692307692306, 'korean': 0.00013192307692307692, 'latin_american': 8.9444444444444443e-05, 'mediterranean': 0.00017935897435897438, 'mexican': 0.00065153846153846165, 'other_asian': 0.00020490384615384614, 'other_european': 0.00027583333333333328, 'spanish': 0.00021038461538461537, 'thai': 0.00033115384615384615, 'vietnamese': 0.00020423076923076921, 'middle_eastern': 5.0000000000000002e-05}\n",
      "{'african': 2.2793115201090661e-05, 'american': 0.0004984662576687116, 'chinese': 0.0003693762781186094, 'french': 0.00029166666666666669, 'indian': 0.00022443762781186095, 'italian': 0.00047699386503067485, 'japanese': 0.00029780163599182007, 'korean': 8.7678936605316982e-05, 'latin_american': 5.9446716655305615e-05, 'mediterranean': 0.00011920586230402181, 'mexican': 0.00043302658486707565, 'other_asian': 0.00013618353783231084, 'other_european': 0.00018332481254260396, 'spanish': 0.00013982617586912066, 'thai': 0.00022009202453987731, 'vietnamese': 0.0001357361963190184, 'middle_eastern': 3.3231083844580775e-05}\n",
      "{'african': 6.1443236714975842e-05, 'american': 0.0004812047101449275, 'chinese': 0.00044067028985507245, 'french': 0.00043863224637681158, 'indian': 0.00039651268115942028, 'italian': 0.00054144021739130441, 'japanese': 0.00042368659420289852, 'korean': 0.00020538949275362322, 'latin_american': 0.00016238929146537845, 'mediterranean': 0.00020750301932367151, 'mexican': 0.00049977355072463767, 'other_asian': 0.00026358695652173915, 'other_european': 0.00029630887681159421, 'spanish': 0.00028702445652173912, 'thai': 0.0003992300724637681, 'vietnamese': 0.00027740036231884059, 'middle_eastern': 0.00010801630434782609}\n",
      "{'african': 0.00022996794871794869, 'american': 0.00046634615384615383, 'chinese': 0.00040384615384615388, 'french': 0.00052884615384615383, 'indian': 0.00046153846153846158, 'italian': 0.00050000000000000001, 'japanese': 0.00043269230769230771, 'korean': 0.00035576923076923074, 'latin_american': 0.00035790598290598289, 'mediterranean': 0.00034775641025641029, 'mexican': 0.00050000000000000001, 'other_asian': 0.00038581730769230772, 'other_european': 0.00041266025641025639, 'spanish': 0.00042788461538461535, 'thai': 0.00046153846153846158, 'vietnamese': 0.00040384615384615388, 'middle_eastern': 0.00026923076923076922}\n",
      "{'african': 0.00011967054263565891, 'american': 0.00046366279069767443, 'chinese': 0.00048546511627906979, 'french': 0.0005007267441860465, 'indian': 0.00049273255813953487, 'italian': 0.00057049418604651159, 'japanese': 0.00050508720930232556, 'korean': 0.00034811046511627904, 'latin_american': 0.00025750968992248059, 'mediterranean': 0.00030208333333333329, 'mexican': 0.00051526162790697678, 'other_asian': 0.00037590843023255812, 'other_european': 0.00037439437984496132, 'spanish': 0.00040225290697674422, 'thai': 0.00049709302325581393, 'vietnamese': 0.00040625000000000004, 'middle_eastern': 0.00022311046511627907}\n"
     ]
    }
   ],
   "source": [
    "female = gender_vector['Female']\n",
    "male = gender_vector['Male']\n",
    "age1 = age_vector[1]\n",
    "age2 = age_vector[1]\n",
    "age3 = age_vector[2]\n",
    "age4 = age_vector[3]\n",
    "age5 = age_vector[3]\n",
    "age6 = age_vector[4]\n",
    "know1 = knowledge_vector['Novice']\n",
    "know2 = knowledge_vector['Intermediate']\n",
    "know3 = knowledge_vector['Expert']\n",
    "know4 = knowledge_vector['Advanced']\n",
    "print('female = ',female)\n",
    "print('male = ', male)\n",
    "print('age1 =', age1)\n",
    "print('age2 =', age2)\n",
    "print('age3 =', age3)\n",
    "print('age4 =', age4)\n",
    "print('age5=', age5)\n",
    "print('age6 =', age6)\n",
    "print('know1 =', know1)\n",
    "print('know2 =', know2)\n",
    "print('know3 =', know3)\n",
    "print('know4 =', know4)"
   ]
  },
  {
   "cell_type": "code",
   "execution_count": 8,
   "metadata": {
    "collapsed": true
   },
   "outputs": [],
   "source": [
    "user = {\n",
    "    'gender': 'Male',\n",
    "    'age': 2,\n",
    "    'knowledge': 4,\n",
    "    'budget': 2,\n",
    "    'dietary': {\n",
    "        \"None\": 1,\n",
    "        \"Vegan\": 0,\n",
    "        \"Vegetarian\": 0,\n",
    "        \"Pescatarian\": 0\n",
    "    },\n",
    "    'allergies': {\n",
    "        'Peanut':0, \n",
    "        'Tree Nuts':0, \n",
    "        'Milk':1, \n",
    "        'Egg':0, \n",
    "        'Wheat':0, \n",
    "        'Soy':1, \n",
    "        'Fish':0, \n",
    "        'Shellfish':0, \n",
    "        'Meat':0, \n",
    "        'Poultry':0\n",
    "    },\n",
    "    'location': {\n",
    "        'neighborhood': 'SOMA',\n",
    "        'latitude':37.7785189,\n",
    "        'longitude':-122.4056395\n",
    "    },\n",
    "    'curLocation': {\n",
    "        'latitude':37.771741,\n",
    "        'longitude':-122.409281\n",
    "    },\n",
    "    'cuisines': {\n",
    "        'African':0, \n",
    "        'American':0, \n",
    "        'Chinese':1, \n",
    "        'Thai':0, \n",
    "        'Japanese':0, \n",
    "        'Korean':1, \n",
    "        'Vietnamese':0, \n",
    "        'Indian':0, \n",
    "        'Middle Eastern':1, \n",
    "        'French':0, \n",
    "        'Italian':1, \n",
    "        'Mexican':1, \n",
    "        'Spanish':0, \n",
    "        'Latin American':0, \n",
    "        'Mediterranean':0, \n",
    "        'Other Asian':0, \n",
    "        'Other European':0\n",
    "    },\n",
    "    'popularity': 5,\n",
    "    'rating': 4,\n",
    "    'proximity': 2,\n",
    "    'ambience': 1,\n",
    "    'menu': 2\n",
    "}"
   ]
  },
  {
   "cell_type": "code",
   "execution_count": 9,
   "metadata": {
    "collapsed": true
   },
   "outputs": [],
   "source": [
    "import urllib\n",
    "import re\n",
    "import requests\n",
    "from urllib.request import Request, urlopen\n",
    "from bs4 import BeautifulSoup\n",
    "import json"
   ]
  },
  {
   "cell_type": "code",
   "execution_count": 10,
   "metadata": {
    "collapsed": true
   },
   "outputs": [],
   "source": [
    "allergies = [ 'Peanut', 'Tree Nuts', 'Milk', 'Egg', 'Wheat', 'Soy', 'Fish', 'Shellfish', 'Meat', 'Poultry' ]\n",
    "\n",
    "allergy_word_clouds = []\n",
    "for allergy in allergies:\n",
    "    related = []\n",
    "    url = 'http://relatedwords.org/api/related?term=' + simplify(allergy)\n",
    "    req = Request(url, headers={'User-Agent': 'Mozilla/5.0'})\n",
    "    r = urlopen(req).read()\n",
    "    j = json.loads(r)\n",
    "    for x in j:\n",
    "        related.append(x['word'])\n",
    "    str_ = ''\n",
    "    for x in related:\n",
    "        str_ = str_ + x + ' '\n",
    "    weight = word_weights(str_)\n",
    "    allergy_word_clouds.append(weight)\n",
    "allergy_word_weights = dict(zip(allergies,allergy_word_clouds))"
   ]
  },
  {
   "cell_type": "code",
   "execution_count": 11,
   "metadata": {},
   "outputs": [
    {
     "name": "stdout",
     "output_type": "stream",
     "text": [
      "Stored 'neg_allergies' (dict)\n"
     ]
    }
   ],
   "source": [
    "%store -r cuisine_word_weights\n",
    "avg = 0.0007\n",
    "neg_allergies = dict.fromkeys(allergies)\n",
    "for allergy in neg_allergies:\n",
    "    sum_ = 0\n",
    "    neg_allergies[allergy] = dict.fromkeys(['african', 'american', 'chinese', 'french', 'indian', 'italian', 'japanese', 'latin_american', 'mediterranean', 'mexican', 'other_asian', 'other_european', 'spanish', 'thai', 'vietnamese', 'korean', 'middle_eastern'])\n",
    "    text_weight = allergy_word_weights[allergy]\n",
    "    for key in neg_allergies[allergy]:\n",
    "        neg_allergies[allergy][key] = cross_weight(cuisine_word_weights[key],text_weight) * -0.1\n",
    "\n",
    "%store neg_allergies"
   ]
  },
  {
   "cell_type": "code",
   "execution_count": 12,
   "metadata": {},
   "outputs": [
    {
     "name": "stdout",
     "output_type": "stream",
     "text": [
      "{'african': -1.3249217825389461e-06, 'american': 0.00024401703634617235, 'chinese': 0.0015505008080400626, 'french': 0.00029662751298605933, 'indian': 0.00037580635484675009, 'italian': 0.001723422544891203, 'japanese': 0.00024572070639331716, 'latin_american': -5.52516947572349e-05, 'mediterranean': 4.0430832865313003e-05, 'mexican': 0.0016790495971746942, 'other_asian': 0.00021711210985862311, 'other_european': 4.4699675003738383e-05, 'spanish': 0.00013187823746560923, 'thai': 0.00028228003182545068, 'vietnamese': 0.00020418544031925991, 'korean': 0.0014989178738629026, 'middle_eastern': 0.0012549498942120349}\n"
     ]
    }
   ],
   "source": [
    "# user scoring\n",
    "# cuisine vector determination from gender, age, knowledge, allergies, cuisine\n",
    "def user_cuisine_params(user):\n",
    "    if user['gender'] == 'Male':\n",
    "        genderV = male\n",
    "    if user['gender'] == 'Female':\n",
    "        genderV = female\n",
    "    if user['age'] == 1:\n",
    "        ageV = age1\n",
    "    if user['age'] == 2:\n",
    "        ageV = age2\n",
    "    if user['age'] == 3:\n",
    "        ageV = age3\n",
    "    if user['age'] == 4:\n",
    "        ageV = age4\n",
    "    if user['age'] == 5:\n",
    "        ageV = age5\n",
    "    if user['age'] == 6:\n",
    "        ageV = age6\n",
    "    if user['knowledge'] == 1:\n",
    "        knowV = know1\n",
    "    if user['knowledge'] == 2:\n",
    "        knowV = know2\n",
    "    if user['knowledge'] == 3:\n",
    "        knowV = know3\n",
    "    if user['knowledge'] == 4:\n",
    "        knowV = know4\n",
    "    allergyV = dict.fromkeys(['african', 'american', 'chinese', 'french', 'indian', 'italian', 'japanese', 'latin_american', 'mediterranean', 'mexican', 'other_asian', 'other_european', 'spanish', 'thai', 'vietnamese', 'korean', 'middle_eastern'])\n",
    "    for allergy in user['allergies']:\n",
    "        if user['allergies'][allergy] == 1:\n",
    "            for cuisine in allergyV:\n",
    "                if allergyV[cuisine] == None:\n",
    "                    allergyV[cuisine] = neg_allergies[allergy][cuisine]\n",
    "                else:             \n",
    "                    allergyV[cuisine] = allergyV[cuisine] + neg_allergies[allergy][cuisine]\n",
    "    cuisineV = dict.fromkeys(['african', 'american', 'chinese', 'french', 'indian', 'italian', 'japanese', 'latin_american', 'mediterranean', 'mexican', 'other_asian', 'other_european', 'spanish', 'thai', 'vietnamese', 'korean', 'middle_eastern']) \n",
    "    \n",
    "    for user_cuisine in user['cuisines']:\n",
    "        if user['cuisines'][user_cuisine] == 1:\n",
    "            cuisineV[simplify(user_cuisine)] = 0.0013\n",
    "        else:\n",
    "            cuisineV[simplify(user_cuisine)] = 0\n",
    "    \n",
    "#     combining genderV, ageV, knowV, allergyV, cuisineV\n",
    "    userV = dict.fromkeys(['african', 'american', 'chinese', 'french', 'indian', 'italian', 'japanese', 'latin_american', 'mediterranean', 'mexican', 'other_asian', 'other_european', 'spanish', 'thai', 'vietnamese', 'korean', 'middle_eastern'])\n",
    "    for k in userV:\n",
    "        userV[k] = genderV[key] + ageV[key] + knowV[k] + allergyV[k] + cuisineV[k]\n",
    "    return userV\n",
    "    \n",
    "cuisine_params = user_cuisine_params(user)\n",
    "print(cuisine_params)"
   ]
  },
  {
   "cell_type": "code",
   "execution_count": 13,
   "metadata": {},
   "outputs": [
    {
     "name": "stdout",
     "output_type": "stream",
     "text": [
      "0\n",
      "{'about': 'Del Popolo is a mobile pizzeria committed to creating rustic '\n",
      "          'Neopolitan-inspired pizza using ingredients sourced from small, '\n",
      "          'generational producers. Del Popolo is housed in a twenty-foot '\n",
      "          \"transatlantic shipping container that's been re-purposed and \"\n",
      "          'modified into a kitchen. A wall of glass doors exposes the '\n",
      "          'interior, including the traditional Italian-made wood-fired oven.',\n",
      " 'attribute': {'savory': 1, 'sweet': 0, 'vegetarian': 0},\n",
      " 'chef-info': '',\n",
      " 'cuisine': ['Pizza'],\n",
      " 'cuisine-map': {'african': 0.001596402853153894,\n",
      "                 'american': 0.0036434952203559137,\n",
      "                 'chinese': 0.0018358103263217795,\n",
      "                 'french': 0.003642304092022059,\n",
      "                 'indian': 0.004493875047726675,\n",
      "                 'italian': 0.004196235312815241,\n",
      "                 'japanese': 0.0011491461100569464,\n",
      "                 'korean': 0.0047486103511166534,\n",
      "                 'latin_american': 0.002377482163851,\n",
      "                 'mediterranean': 0.0029862427410101327,\n",
      "                 'mexican': 0.003929840919089204,\n",
      "                 'middle_eastern': 0.002076564554807764,\n",
      "                 'other_asian': 0.004724277138291259,\n",
      "                 'other_european': 0.0012717065911604334,\n",
      "                 'spanish': 0.0030064090442796024,\n",
      "                 'thai': 0.0023929792086450886,\n",
      "                 'vietnamese': 0.0012377274961234777},\n",
      " 'menu': ' Summer Squash and Cucumber Salad Albacore Tuna Crudo Musk Melon '\n",
      "         'Salad Peaches Roasted in the Wood Oven Crispy Chicken Livers & '\n",
      "         'Cherry Tomatoes Farrotto Monterey Bay Squid House-Cured Bresaola '\n",
      "         'Crispy Chicken Livers & Cherry Tomatoes Marinara Margherita '\n",
      "         'Margherita di Bufala Bianca Eggplant Butterball Potato Anchovy House '\n",
      "         'Made Sausage Sparkling Wines RosÃ© Wines White Wines Red Wines '\n",
      "         'Appetizers With toasted almonds, nepitella & buttermilk vinaigrette '\n",
      "         'Appetizers With castelvetrano olive tapenade, new potato & aioli '\n",
      "         'Appetizers With Prosciutto di San Daniele, roasted padron peppers & '\n",
      "         \"creme fraiche Appetizers With goat's cheese, salsa rustica & seeded \"\n",
      "         'cracker Appetizers With house cured pancetta & tarragon Appetizers '\n",
      "         'With wild morel mushrooms, sweet corn, prosciutto & egg yolk '\n",
      "         'Appetizers With golden Romano beans, confit Early Girl tomato & '\n",
      "         \"chili Appetizers With olive oil & za'atar Appetizers With house \"\n",
      "         'cured pancetta & tarragon Entrees Crushed tomato, green garlic, '\n",
      "         'oregano Entrees Crushed tomato, mozzarella, basil Entrees Crushed '\n",
      "         'tomato, Ramini mozzarella di bufala, basil Entrees Mozzarella, '\n",
      "         \"ricotta, basil, garlic Entrees Crushed tomato, mozzarella, 'Nduja, \"\n",
      "         'ricotta salata Entrees Leeks, fontina, hot honey Entrees Bitter '\n",
      "         'greens, ricotta, Calabrian chili Entrees Crushed tomato, mozzarella, '\n",
      "         'Gypsy peppers, red onion, chili Drinks  Drinks  Drinks  Drinks ',\n",
      " 'price': 1,\n",
      " 'review-count': 0,\n",
      " 'schedule': [{'address': 'Main Parade Ground',\n",
      "               'city': 'San Francisco',\n",
      "               'latitude': 37.800739,\n",
      "               'location': 'Presidio Picnic',\n",
      "               'longitude': -122.458237,\n",
      "               'state': 'CA',\n",
      "               'times': {'day': 6,\n",
      "                         'endTime': 16,\n",
      "                         'month': 5,\n",
      "                         'startTime': 11}}],\n",
      " 'stars-count': 0,\n",
      " 'type': 'truck',\n",
      " 'vendor-name': 'Del Popolo'}\n"
     ]
    }
   ],
   "source": [
    "%store -r vendorList\n",
    "import pprint\n",
    "dummy_vendor = vendorList[34]\n",
    "print(dummy_vendor['attribute']['vegetarian'])\n",
    "pprint.pprint(dummy_vendor)"
   ]
  },
  {
   "cell_type": "code",
   "execution_count": 14,
   "metadata": {},
   "outputs": [
    {
     "name": "stdout",
     "output_type": "stream",
     "text": [
      "{'Chomp Station': 0.27654277359117252, 'Little Red Riding Truck': 0.2245387949958971, 'Kabob Trolley': 0.20958965529856172, 'Lobsta Truck': 0.16702454560349447, 'Little Green Cyclo': 0.3655470944060541, 'Don Pablo': 0.23125717452199179, 'Bonito Poke': 0.16034559811653806, 'Cochinita': 0.23523808283805486, 'Happy Dumplings': 0.18621222205648291, 'Seoul of Taipei': 0.29501461371609433, \"It's All Gravy\": 0.18873358600531617, 'El Sabrosito': 0.26763781231997669, 'Liberty Cheesesteak': 0.33362202938751989, 'Curry Up Now': 0.16622144039407161, 'Momolicious': 0.21800706689638616, 'Canasta Kitchen': 0.25243305349581674, 'Jeepsilog': 0.29538386717110721, 'Hookt Mini Doughnuts': 0.18734854855248431, 'Spork & Stix': 0.4044116631522377, \"Rocko's Ice Cream Tacos\": 0.23828394630713085, 'Tres Truck': 0.22798701099640101, 'No Worries': 0.2181223013010174, 'Frozen Kuhsterd': 0.18713168817361492, \"Izzy's Cheesesteaks\": 0.23452717316206356, 'Licensed 2 Grill': 0.24287555994559548, 'The Boneyard': 0.24320715410829483, 'Got Plate Lunch': 0.36175901878762162, 'Senor Sisig': 0.29054506447552875, 'Seoulful Korean Fried Chicken': 0.27868584325010276, 'Southern Comfort Kitchen': 0.25051613238533382, 'Bombzies BBQ': 0.23864299581570975, 'Hedge Coffee': 0.31412680014356736, 'Taqueria Angelicas': 0.82565455865670656, 'Kome Sushi Burrito': 0.16522028228679878, 'Del Popolo': 0.32735649461321997, 'Red Sauce Meatballs': 0.32121298459699676, 'North Border Taco': 0.38403002308591749, 'PI Wings': 0.32384356979183593, 'Mozzeria': 0.37466373188542412, 'Beyond the Border': 0.29102904194183171, 'COOL!NARIA': 0.17722071744755313, 'Upper Cut': 0.23759657649850469, \"Kara's Cupcakes\": 0.091042465119487673, 'Mayo & Mustard': 0.3715859733213514, 'El Sur': 0.24972086464729612, 'Johnny Doughnuts': 0.14072721581136713, 'Lady Falcon Coffee Club': 0.33496116327390701, 'United Bites': 0.38400229678258252, \"Lexie's Frozen Custard\": 0.13765866593729445, 'The Chairman': 0.13646513933356633, 'Street Steam Bunz': 0.13580592112679735, 'Mi Cantarito': 0.29574278205370158, \"Bowl'd Acai\": 0.22680141983472721, 'Pintxos de Espana': 0.18184115381741364, '3-Course Spring Californian Dinner': 0.10911119781377486, 'Impastare: Italy x China II': 0.18413561959991009, 'The Art of Making Chocolate Truffles + Wine & Chocolate Pairing Flight (hands on class)': 0.18772586925643781, '4-Course Seasonal Italian Dinner': 0.16272624926159002, 'Noodle in a Haystack: Spicy Miso Paitan': 0.18919892168851951, 'Modernist Spring Dinner': 0.24170909961371245, 'Northern Iranian Spring Dinner': 0.14095675767314764, 'The Silk Road Tacos: \\nMexican Indian Fusion': 0.16055815481622002, 'Vegan Date Night: an LGBT community gathering': 0.17688563964322487, 'Istanbul Modern, Spring (10 course)': 0.14377255206479606, 'ICHIDO Japanese Omakase': 0.16071686977599298, '4-Course Brunch Without A Line': 0.1429856374673526, 'Eat Stay Love Lafayette Food Tour': 0.17707194021326633, 'Hangover Cure Mexican Brunch': 0.16173538383961239, 'Noodle in a Haystack: Paitan / Tan Tan': 0.19258238687354165, 'Afternoon tea with June': 0.15574278231468572, 'Mar y Tierra': 0.16319643545786952}\n"
     ]
    }
   ],
   "source": [
    "def cuisine_score_calc(cuisine_params, vendor):\n",
    "    cuisine_score = 0\n",
    "    for key in cuisine_params:\n",
    "        cuisine_score = cuisine_score + cuisine_params[key] * vendor['cuisine-map'][key]\n",
    "    return cuisine_score*10*1000\n",
    "\n",
    "vendor_names = []\n",
    "vendor_matches = []\n",
    "for vendor in vendorList:\n",
    "    vendor_names.append(vendor['vendor-name'])\n",
    "    vendor_matches.append(cuisine_score_calc(cuisine_params,vendor))\n",
    "    \n",
    "v = dict(zip(vendor_names,vendor_matches))\n",
    "print(v)"
   ]
  },
  {
   "cell_type": "code",
   "execution_count": 15,
   "metadata": {},
   "outputs": [
    {
     "name": "stdout",
     "output_type": "stream",
     "text": [
      "OrderedDict([('Taqueria Angelicas', 0.82565455865670656),\n",
      "             ('Spork & Stix', 0.4044116631522377),\n",
      "             ('North Border Taco', 0.38403002308591749),\n",
      "             ('United Bites', 0.38400229678258252),\n",
      "             ('Mozzeria', 0.37466373188542412),\n",
      "             ('Mayo & Mustard', 0.3715859733213514),\n",
      "             ('Little Green Cyclo', 0.3655470944060541),\n",
      "             ('Got Plate Lunch', 0.36175901878762162),\n",
      "             ('Lady Falcon Coffee Club', 0.33496116327390701),\n",
      "             ('Liberty Cheesesteak', 0.33362202938751989),\n",
      "             ('Del Popolo', 0.32735649461321997),\n",
      "             ('PI Wings', 0.32384356979183593),\n",
      "             ('Red Sauce Meatballs', 0.32121298459699676),\n",
      "             ('Hedge Coffee', 0.31412680014356736),\n",
      "             ('Mi Cantarito', 0.29574278205370158),\n",
      "             ('Jeepsilog', 0.29538386717110721),\n",
      "             ('Seoul of Taipei', 0.29501461371609433),\n",
      "             ('Beyond the Border', 0.29102904194183171),\n",
      "             ('Senor Sisig', 0.29054506447552875),\n",
      "             ('Seoulful Korean Fried Chicken', 0.27868584325010276),\n",
      "             ('Chomp Station', 0.27654277359117252),\n",
      "             ('El Sabrosito', 0.26763781231997669),\n",
      "             ('Canasta Kitchen', 0.25243305349581674),\n",
      "             ('Southern Comfort Kitchen', 0.25051613238533382),\n",
      "             ('El Sur', 0.24972086464729612),\n",
      "             ('The Boneyard', 0.24320715410829483),\n",
      "             ('Licensed 2 Grill', 0.24287555994559548),\n",
      "             ('Modernist Spring Dinner', 0.24170909961371245),\n",
      "             ('Bombzies BBQ', 0.23864299581570975),\n",
      "             (\"Rocko's Ice Cream Tacos\", 0.23828394630713085),\n",
      "             ('Upper Cut', 0.23759657649850469),\n",
      "             ('Cochinita', 0.23523808283805486),\n",
      "             (\"Izzy's Cheesesteaks\", 0.23452717316206356),\n",
      "             ('Don Pablo', 0.23125717452199179),\n",
      "             ('Tres Truck', 0.22798701099640101),\n",
      "             (\"Bowl'd Acai\", 0.22680141983472721),\n",
      "             ('Little Red Riding Truck', 0.2245387949958971),\n",
      "             ('No Worries', 0.2181223013010174),\n",
      "             ('Momolicious', 0.21800706689638616),\n",
      "             ('Kabob Trolley', 0.20958965529856172),\n",
      "             ('Noodle in a Haystack: Paitan / Tan Tan', 0.19258238687354165),\n",
      "             ('Noodle in a Haystack: Spicy Miso Paitan', 0.18919892168851951),\n",
      "             (\"It's All Gravy\", 0.18873358600531617),\n",
      "             ('The Art of Making Chocolate Truffles + Wine & Chocolate Pairing '\n",
      "              'Flight (hands on class)',\n",
      "              0.18772586925643781),\n",
      "             ('Hookt Mini Doughnuts', 0.18734854855248431),\n",
      "             ('Frozen Kuhsterd', 0.18713168817361492),\n",
      "             ('Happy Dumplings', 0.18621222205648291),\n",
      "             ('Impastare: Italy x China II', 0.18413561959991009),\n",
      "             ('Pintxos de Espana', 0.18184115381741364),\n",
      "             ('COOL!NARIA', 0.17722071744755313),\n",
      "             ('Eat Stay Love Lafayette Food Tour', 0.17707194021326633),\n",
      "             ('Vegan Date Night: an LGBT community gathering',\n",
      "              0.17688563964322487),\n",
      "             ('Lobsta Truck', 0.16702454560349447),\n",
      "             ('Curry Up Now', 0.16622144039407161),\n",
      "             ('Kome Sushi Burrito', 0.16522028228679878),\n",
      "             ('Mar y Tierra', 0.16319643545786952),\n",
      "             ('4-Course Seasonal Italian Dinner', 0.16272624926159002),\n",
      "             ('Hangover Cure Mexican Brunch', 0.16173538383961239),\n",
      "             ('ICHIDO Japanese Omakase', 0.16071686977599298),\n",
      "             ('The Silk Road Tacos: \\nMexican Indian Fusion',\n",
      "              0.16055815481622002),\n",
      "             ('Bonito Poke', 0.16034559811653806),\n",
      "             ('Afternoon tea with June', 0.15574278231468572),\n",
      "             ('Istanbul Modern, Spring (10 course)', 0.14377255206479606),\n",
      "             ('4-Course Brunch Without A Line', 0.1429856374673526),\n",
      "             ('Northern Iranian Spring Dinner', 0.14095675767314764),\n",
      "             ('Johnny Doughnuts', 0.14072721581136713),\n",
      "             (\"Lexie's Frozen Custard\", 0.13765866593729445),\n",
      "             ('The Chairman', 0.13646513933356633),\n",
      "             ('Street Steam Bunz', 0.13580592112679735),\n",
      "             ('3-Course Spring Californian Dinner', 0.10911119781377486),\n",
      "             (\"Kara's Cupcakes\", 0.091042465119487673)])\n"
     ]
    }
   ],
   "source": [
    "# def sortDesc(dict_):\n",
    "#     for key, item in dict_.items():\n",
    "#         print(dict_[key])\n",
    "# #         if '' in item:\n",
    "# #             del item['']\n",
    "#         dict_ = sorted(item, key=lambda x: x[1], reverse = True)\n",
    "        \n",
    "# sortDesc(v)\n",
    "from collections import OrderedDict\n",
    "d_descending = OrderedDict(sorted(v.items(), \n",
    "                                  key=lambda kv: kv[1], reverse=True))\n",
    "pprint.pprint(d_descending)\n"
   ]
  },
  {
   "cell_type": "code",
   "execution_count": 16,
   "metadata": {},
   "outputs": [
    {
     "name": "stdout",
     "output_type": "stream",
     "text": [
      "{'budget': -0.2, 'vegan': 0.2, 'vegetarian': 0.2, 'pescatarian': 0.2, 'popularity': 0.05, 'rating': 0.05, 'proximity': -0.2, 'ambience': 0.05, 'menu': 0.05}\n"
     ]
    }
   ],
   "source": [
    "# residual matrix\n",
    "user_resid_keys = ['budget', 'vegan', 'vegetarian', 'pescatarian', 'popularity', 'rating', 'proximity', 'ambience', 'menu']\n",
    "user_resid_weights = [-0.2,0.2,0.2,0.2,0.05,0.05,-0.2,0.05,0.05]\n",
    "user_residual = dict(zip(user_resid_keys,user_resid_weights))\n",
    "print(user_residual)"
   ]
  },
  {
   "cell_type": "code",
   "execution_count": 17,
   "metadata": {},
   "outputs": [
    {
     "name": "stdout",
     "output_type": "stream",
     "text": [
      "1.6849315068493151 1277.5555555555557 4.98 9.737241549383386 67.72602739726027\n"
     ]
    }
   ],
   "source": [
    "# metrics for normalization by mean\n",
    "def uniq_count(str_):\n",
    "    return len(set(str_.split()))\n",
    "budgetSum = 0\n",
    "popularitySum = 0\n",
    "ratingSum = 0\n",
    "proximitySum = 0\n",
    "menuSum = 0\n",
    "\n",
    "reviewC = 0\n",
    "ratingC = 0\n",
    "locationC = 0\n",
    "\n",
    "for vendor in vendorList:\n",
    "    budgetSum = budgetSum + vendor['price']\n",
    "    popularitySum = popularitySum + vendor['review-count']\n",
    "    if vendor['review-count'] != 0:\n",
    "        reviewC = reviewC + 1\n",
    "    ratingSum = ratingSum + vendor['stars-count']\n",
    "    if vendor['stars-count'] != 0:\n",
    "        ratingC = ratingC + 1\n",
    "    if len(vendor['schedule']) != 0:\n",
    "        proximitySum = proximitySum + distance_calc(user['location']['latitude'],user['location']['longitude'],vendor['schedule'][0]['latitude'],vendor['schedule'][0]['longitude'])\n",
    "        locationC = locationC + 1\n",
    "    menuSum = menuSum + uniq_count(vendor['menu'])\n",
    "\n",
    "budgetAvg = budgetSum/len(vendorList)\n",
    "popularityAvg = popularitySum/reviewC\n",
    "ratingAvg = ratingSum/ratingC\n",
    "proximityAvg = proximitySum/locationC\n",
    "menuAvg = menuSum/len(vendorList)\n",
    "\n",
    "print(budgetAvg, popularityAvg, ratingAvg, proximityAvg, menuAvg)"
   ]
  },
  {
   "cell_type": "code",
   "execution_count": 18,
   "metadata": {
    "collapsed": true
   },
   "outputs": [],
   "source": [
    "vendorNames = []\n",
    "vendorResids = []\n",
    "for vendor in vendorList:\n",
    "    budgetWeight = user_residual['budget']*(user['budget'] - vendor['price'])/budgetAvg\n",
    "    if vendor['attribute']:\n",
    "        vegeWeight = user_residual['vegetarian']*vendor['attribute']['vegetarian']\n",
    "    else:\n",
    "        vegeWeight = 0\n",
    "    popularityWeight = (user['popularity']/25)*user_residual['popularity']*(vendor['review-count'] - popularityAvg)/popularityAvg\n",
    "    ratingWeight = (user['rating']/25)*user_residual['rating']*(vendor['stars-count'] - ratingAvg)/ratingAvg\n",
    "    if len(vendor['schedule']) > 0:\n",
    "        proximityWeight = (user['proximity']/25)*user_residual['proximity']*(distance_calc(user['location']['latitude'],user['location']['longitude'],vendor['schedule'][0]['latitude'],vendor['schedule'][0]['longitude']) - proximityAvg)/proximityAvg\n",
    "    else:\n",
    "        proximityWeight = 0\n",
    "    ambienceWeight = (user['ambience']/25)*user_residual['ambience']*(vendor['type'] == 'popup')\n",
    "    menuWeight = (user['menu']/25)*user_residual['menu']*(uniq_count(vendor['menu'])/menuAvg)/menuAvg\n",
    "    residualTotal = budgetWeight + popularityWeight + vegeWeight + ratingWeight + proximityWeight + ambienceWeight + menuWeight\n",
    "    vendorNames.append(vendor['vendor-name'])\n",
    "    vendorResids.append(residualTotal)\n",
    "    resids = dict(zip(vendorNames,vendorResids))"
   ]
  },
  {
   "cell_type": "code",
   "execution_count": 19,
   "metadata": {},
   "outputs": [
    {
     "name": "stdout",
     "output_type": "stream",
     "text": [
      "OrderedDict([('Taqueria Angelicas', 0.69883029378549566),\n",
      "             ('Modernist Spring Dinner', 0.48568320623593264),\n",
      "             ('Spork & Stix', 0.4570029484301521),\n",
      "             ('Mayo & Mustard', 0.45026472682161112),\n",
      "             ('ICHIDO Japanese Omakase', 0.44275568816307426),\n",
      "             ('Little Green Cyclo', 0.44109667260669488),\n",
      "             ('Noodle in a Haystack: Paitan / Tan Tan', 0.43692425262548074),\n",
      "             ('Noodle in a Haystack: Spicy Miso Paitan', 0.43352596233782037),\n",
      "             ('The Art of Making Chocolate Truffles + Wine & Chocolate Pairing '\n",
      "              'Flight (hands on class)',\n",
      "              0.43157709927523802),\n",
      "             ('Istanbul Modern, Spring (10 course)', 0.41790794137015308),\n",
      "             ('Mar y Tierra', 0.40810712507105873),\n",
      "             ('Lady Falcon Coffee Club', 0.39826284834689818),\n",
      "             ('Mozzeria', 0.38631122535290557),\n",
      "             ('Red Sauce Meatballs', 0.38451379760512683),\n",
      "             ('Eat Stay Love Lafayette Food Tour', 0.37667074085494778),\n",
      "             ('Seoul of Taipei', 0.37371429677301976),\n",
      "             ('Chomp Station', 0.35475650169014705),\n",
      "             ('El Sabrosito', 0.33095432249560608),\n",
      "             ('El Sur', 0.32735717502095812),\n",
      "             ('Impastare: Italy x China II', 0.31465490943365121),\n",
      "             ('Vegan Date Night: an LGBT community gathering',\n",
      "              0.30191819092530492),\n",
      "             ('Pintxos de Espana', 0.2985009819403327),\n",
      "             ('Bombzies BBQ', 0.29718548562591962),\n",
      "             (\"Rocko's Ice Cream Tacos\", 0.29523787838904969),\n",
      "             ('The Silk Road Tacos: \\nMexican Indian Fusion',\n",
      "              0.29276672195286157),\n",
      "             (\"Bowl'd Acai\", 0.2901022328428573),\n",
      "             ('Hangover Cure Mexican Brunch', 0.28657691292273652),\n",
      "             ('No Worries', 0.28144753212525753),\n",
      "             ('Afternoon tea with June', 0.28121050725795943),\n",
      "             ('4-Course Seasonal Italian Dinner', 0.27936950815214873),\n",
      "             ('Northern Iranian Spring Dinner', 0.27677601648613881),\n",
      "             ('Canasta Kitchen', 0.27348994152287837),\n",
      "             ('Kabob Trolley', 0.27293058329030112),\n",
      "             ('4-Course Brunch Without A Line', 0.26784903157849682),\n",
      "             ('Hookt Mini Doughnuts', 0.25804542351562254),\n",
      "             ('North Border Taco', 0.2473761834668233),\n",
      "             ('United Bites', 0.24737287497959834),\n",
      "             ('Kome Sushi Burrito', 0.24065998031494451),\n",
      "             ('Momolicious', 0.23901599135608884),\n",
      "             ('3-Course Spring Californian Dinner', 0.23396493580495398),\n",
      "             ('Curry Up Now', 0.22954841534803386),\n",
      "             ('Frozen Kuhsterd', 0.22151997218695132),\n",
      "             ('The Chairman', 0.21510290578535568),\n",
      "             ('Johnny Doughnuts', 0.21308362543155412),\n",
      "             ('Liberty Cheesesteak', 0.2117764570759415),\n",
      "             ('Del Popolo', 0.19815104084079821),\n",
      "             (\"Lexie's Frozen Custard\", 0.19020722003701634),\n",
      "             ('PI Wings', 0.18718449778357532),\n",
      "             ('Got Plate Lunch', 0.18283945256593218),\n",
      "             ('Hedge Coffee', 0.17744069412461352),\n",
      "             ('Senor Sisig', 0.16875617637992002),\n",
      "             ('Beyond the Border', 0.16418646370853834),\n",
      "             ('Mi Cantarito', 0.15905057158072022),\n",
      "             ('Street Steam Bunz', 0.15675292898136392),\n",
      "             (\"Kara's Cupcakes\", 0.15435984735997813),\n",
      "             ('Seoulful Korean Fried Chicken', 0.14198665625823284),\n",
      "             ('Jeepsilog', 0.12973203620083429),\n",
      "             ('Southern Comfort Kitchen', 0.12929604540947787),\n",
      "             ('Cochinita', 0.1134971583098051),\n",
      "             (\"Izzy's Cheesesteaks\", 0.11011861047603577),\n",
      "             ('Licensed 2 Grill', 0.10625224259663882),\n",
      "             ('The Boneyard', 0.10190399939891442),\n",
      "             ('Upper Cut', 0.10096279437121516),\n",
      "             ('Tres Truck', 0.091287824004531087),\n",
      "             ('Happy Dumplings', 0.063773534852092723),\n",
      "             ('Don Pablo', 0.054312825679324966),\n",
      "             ('Little Red Riding Truck', 0.047579621050592047),\n",
      "             (\"It's All Gravy\", 0.046773682368743158),\n",
      "             ('COOL!NARIA', 0.035763207257763024),\n",
      "             ('Lobsta Truck', 0.019607110232798153),\n",
      "             ('Bonito Poke', 0.018888087926747954)])\n"
     ]
    }
   ],
   "source": [
    "aggregate_scoring = dict.fromkeys(v.keys())\n",
    "for key in aggregate_scoring:\n",
    "    aggregate_scoring[key] = v[key] + resids[key]\n",
    "d_descending = OrderedDict(sorted(aggregate_scoring.items(), \n",
    "                                  key=lambda kv: kv[1], reverse=True))\n",
    "pprint.pprint(d_descending)"
   ]
  },
  {
   "cell_type": "code",
   "execution_count": 33,
   "metadata": {},
   "outputs": [
    {
     "name": "stdout",
     "output_type": "stream",
     "text": [
      "[{'axis': 'african', 'value': -0.00013249217825389461},\n",
      " {'axis': 'american', 'value': 0.024401703634617234},\n",
      " {'axis': 'chinese', 'value': 0.15505008080400626},\n",
      " {'axis': 'french', 'value': 0.029662751298605933},\n",
      " {'axis': 'indian', 'value': 0.03758063548467501},\n",
      " {'axis': 'italian', 'value': 0.1723422544891203},\n",
      " {'axis': 'japanese', 'value': 0.024572070639331714},\n",
      " {'axis': 'latin_american', 'value': -0.00552516947572349},\n",
      " {'axis': 'mediterranean', 'value': 0.0040430832865312998},\n",
      " {'axis': 'mexican', 'value': 0.16790495971746941},\n",
      " {'axis': 'other_asian', 'value': 0.02171121098586231},\n",
      " {'axis': 'other_european', 'value': 0.0044699675003738379},\n",
      " {'axis': 'spanish', 'value': 0.013187823746560922},\n",
      " {'axis': 'thai', 'value': 0.028228003182545067},\n",
      " {'axis': 'vietnamese', 'value': 0.02041854403192599},\n",
      " {'axis': 'korean', 'value': 0.14989178738629025},\n",
      " {'axis': 'middle_eastern', 'value': 0.12549498942120349}]\n"
     ]
    }
   ],
   "source": [
    "data = []\n",
    "for cuisine in cuisine_params:\n",
    "    valuepair = {'axis':cuisine,'value':cuisine_params[cuisine]*100}\n",
    "    data.append(valuepair)\n",
    "pprint.pprint(data)"
   ]
  },
  {
   "cell_type": "code",
   "execution_count": 54,
   "metadata": {},
   "outputs": [
    {
     "name": "stdout",
     "output_type": "stream",
     "text": [
      "['Taqueria Angelicas', 'Modernist Spring Dinner', 'Spork & Stix', 'Mayo & Mustard', 'ICHIDO Japanese Omakase', 'Little Green Cyclo', 'Noodle in a Haystack: Paitan / Tan Tan', 'Noodle in a Haystack: Spicy Miso Paitan', 'The Art of Making Chocolate Truffles + Wine & Chocolate Pairing Flight (hands on class)', 'Istanbul Modern, Spring (10 course)']\n"
     ]
    }
   ],
   "source": [
    "top10 = []\n",
    "for k in d_descending:\n",
    "    top10.append(k)\n",
    "print(top10[:10])\n",
    "# print(top10[:10])\n"
   ]
  },
  {
   "cell_type": "code",
   "execution_count": null,
   "metadata": {
    "collapsed": true
   },
   "outputs": [],
   "source": []
  }
 ],
 "metadata": {
  "kernelspec": {
   "display_name": "Python 3",
   "language": "python",
   "name": "python3"
  },
  "language_info": {
   "codemirror_mode": {
    "name": "ipython",
    "version": 3
   },
   "file_extension": ".py",
   "mimetype": "text/x-python",
   "name": "python",
   "nbconvert_exporter": "python",
   "pygments_lexer": "ipython3",
   "version": "3.6.3"
  }
 },
 "nbformat": 4,
 "nbformat_minor": 2
}
