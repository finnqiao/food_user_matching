{
 "cells": [
  {
   "cell_type": "code",
   "execution_count": 59,
   "metadata": {},
   "outputs": [
    {
     "name": "stdout",
     "output_type": "stream",
     "text": [
      "dict_keys(['Advanced', 'Expert', 'Intermediate', 'Novice'])\n"
     ]
    }
   ],
   "source": [
    "%store -r gender_vector\n",
    "%store -r age_vector\n",
    "%store -r knowledge_vector\n",
    "print(knowledge_vector.keys())\n",
    "def cross_weight(d1, d2):\n",
    "    default=1 \n",
    "    ret=0;\n",
    "    for i in d1.keys():\n",
    "        if(d2.get(i,default)==default):\n",
    "            continue\n",
    "        else:\n",
    "            ret+=d1[i]*d2[i]\n",
    "\n",
    "    return ret\n",
    "pattern = re.compile(r'[^A-Za-z\\s]') \n",
    "def word_weights(str_):\n",
    "    str_ = pattern.sub('',str_) \n",
    "    alist = str_.lower().split(\" \")\n",
    "    length = len(alist)\n",
    "    default=0\n",
    "    \n",
    "    dict={}\n",
    "    for i in alist:\n",
    "        if dict.get(i, default)==default:\n",
    "            dict[i]=1/length\n",
    "        else:\n",
    "            dict[i]+=1/length\n",
    "\n",
    "    return dict"
   ]
  },
  {
   "cell_type": "code",
   "execution_count": 60,
   "metadata": {},
   "outputs": [],
   "source": [
    "def simplify(str_):\n",
    "    str_ = pattern.sub('',str_) \n",
    "    alist = str_.lower().split(\" \")\n",
    "    str_ = '_'.join(alist)\n",
    "    return str_"
   ]
  },
  {
   "cell_type": "code",
   "execution_count": 84,
   "metadata": {},
   "outputs": [
    {
     "name": "stdout",
     "output_type": "stream",
     "text": [
      "{'african': 1.925014392630973e-05, 'american': 0.00042098445595854919, 'chinese': 0.00031196027633851469, 'french': 0.00024632987910189983, 'indian': 0.00018955094991364419, 'italian': 0.00040284974093264254, 'japanese': 0.00025151122625215893, 'korean': 7.4050086355785842e-05, 'latin_american': 5.0206294377278833e-05, 'mediterranean': 0.00010067645365572827, 'mexican': 0.00036571675302245248, 'other_asian': 0.00011501511226252158, 'other_european': 0.00015482872769142199, 'spanish': 0.0001180915371329879, 'thai': 0.00018588082901554404, 'vietnamese': 0.00011463730569948186, 'middle_eastern': 2.8065630397236616e-05}\n"
     ]
    }
   ],
   "source": [
    "female = gender_vector['Female']\n",
    "male = gender_vector['Male']\n",
    "age1 = age_vector[1]\n",
    "age2 = age_vector[1]\n",
    "age3 = age_vector[2]\n",
    "age4 = age_vector[3]\n",
    "age5 = age_vector[3]\n",
    "age6 = age_vector[4]\n",
    "know1 = knowledge_vector['Novice']\n",
    "know2 = knowledge_vector['Intermediate']\n",
    "know3 = knowledge_vector['Expert']\n",
    "know4 = knowledge_vector['Advanced']\n",
    "print(male)"
   ]
  },
  {
   "cell_type": "code",
   "execution_count": 105,
   "metadata": {},
   "outputs": [],
   "source": [
    "user = {\n",
    "    'gender': 'Male',\n",
    "    'age': 2,\n",
    "    'knowledge': 4,\n",
    "    'budget': 2,\n",
    "    'dietary': {\n",
    "        \"None\": 1,\n",
    "        \"Vegan\": 0,\n",
    "        \"Vegetarian\": 0,\n",
    "        \"Pescatarian\": 0\n",
    "    },\n",
    "    'allergies': {\n",
    "        'Peanut':0, \n",
    "        'Tree Nuts':0, \n",
    "        'Milk':1, \n",
    "        'Egg':0, \n",
    "        'Wheat':0, \n",
    "        'Soy':1, \n",
    "        'Fish':0, \n",
    "        'Shellfish':0, \n",
    "        'Meat':0, \n",
    "        'Poultry':0\n",
    "    },\n",
    "    'location': {\n",
    "        'neighborhood': 'SOMA',\n",
    "        'latitude':37.7785189,\n",
    "        'longitude':-122.4056395\n",
    "    },\n",
    "    'curLocation': {\n",
    "        'latitude':37.771741,\n",
    "        'longitude':-122.409281\n",
    "    },\n",
    "    'cuisines': {\n",
    "        'African':0, \n",
    "        'American':0, \n",
    "        'Chinese':1, \n",
    "        'Thai':0, \n",
    "        'Japanese':0, \n",
    "        'Korean':1, \n",
    "        'Vietnamese':0, \n",
    "        'Indian':0, \n",
    "        'Middle Eastern':1, \n",
    "        'French':0, \n",
    "        'Italian':1, \n",
    "        'Mexican':1, \n",
    "        'Spanish':0, \n",
    "        'Latin American':0, \n",
    "        'Mediterranean':0, \n",
    "        'Other Asian':0, \n",
    "        'Other European':0\n",
    "    },\n",
    "    'popularity': 5,\n",
    "    'rating': 4,\n",
    "    'proximity': 2,\n",
    "    'ambience': 1,\n",
    "    'menu': 2\n",
    "}"
   ]
  },
  {
   "cell_type": "code",
   "execution_count": 33,
   "metadata": {},
   "outputs": [],
   "source": [
    "import urllib\n",
    "import re\n",
    "import requests\n",
    "from urllib.request import Request, urlopen\n",
    "from bs4 import BeautifulSoup\n",
    "import json"
   ]
  },
  {
   "cell_type": "code",
   "execution_count": 66,
   "metadata": {},
   "outputs": [],
   "source": [
    "allergies = [ 'Peanut', 'Tree Nuts', 'Milk', 'Egg', 'Wheat', 'Soy', 'Fish', 'Shellfish', 'Meat', 'Poultry' ]\n",
    "\n",
    "allergy_word_clouds = []\n",
    "for allergy in allergies:\n",
    "    related = []\n",
    "    url = 'http://relatedwords.org/api/related?term=' + simplify(allergy)\n",
    "    req = Request(url, headers={'User-Agent': 'Mozilla/5.0'})\n",
    "    r = urlopen(req).read()\n",
    "    j = json.loads(r)\n",
    "    for x in j:\n",
    "        related.append(x['word'])\n",
    "    str_ = ''\n",
    "    for x in related:\n",
    "        str_ = str_ + x + ' '\n",
    "    weight = word_weights(str_)\n",
    "    allergy_word_clouds.append(weight)\n",
    "allergy_word_weights = dict(zip(allergies,allergy_word_clouds))"
   ]
  },
  {
   "cell_type": "code",
   "execution_count": 118,
   "metadata": {},
   "outputs": [
    {
     "name": "stdout",
     "output_type": "stream",
     "text": [
      "Stored 'neg_allergies' (dict)\n"
     ]
    }
   ],
   "source": [
    "%store -r cuisine_word_weights\n",
    "avg = 0.0007\n",
    "neg_allergies = dict.fromkeys(allergies)\n",
    "for allergy in neg_allergies:\n",
    "    sum_ = 0\n",
    "    neg_allergies[allergy] = dict.fromkeys(['african', 'american', 'chinese', 'french', 'indian', 'italian', 'japanese', 'latin_american', 'mediterranean', 'mexican', 'other_asian', 'other_european', 'spanish', 'thai', 'vietnamese', 'korean', 'middle_eastern'])\n",
    "    text_weight = allergy_word_weights[allergy]\n",
    "    for key in neg_allergies[allergy]:\n",
    "        neg_allergies[allergy][key] = cross_weight(cuisine_word_weights[key],text_weight) * -0.1\n",
    "\n",
    "%store neg_allergies"
   ]
  },
  {
   "cell_type": "code",
   "execution_count": 120,
   "metadata": {},
   "outputs": [
    {
     "data": {
      "text/plain": [
       "{'african': -1.3249217825389461e-06,\n",
       " 'american': 0.00024401703634617235,\n",
       " 'chinese': 0.0012505008080400627,\n",
       " 'french': 0.00029662751298605933,\n",
       " 'indian': 0.00037580635484675009,\n",
       " 'italian': 0.001423422544891203,\n",
       " 'japanese': 0.00024572070639331716,\n",
       " 'korean': 0.0011989178738629027,\n",
       " 'latin_american': -5.52516947572349e-05,\n",
       " 'mediterranean': 4.0430832865313003e-05,\n",
       " 'mexican': 0.0013790495971746943,\n",
       " 'middle_eastern': 0.00095494989421203501,\n",
       " 'other_asian': 0.00021711210985862311,\n",
       " 'other_european': 4.4699675003738383e-05,\n",
       " 'spanish': 0.00013187823746560923,\n",
       " 'thai': 0.00028228003182545068,\n",
       " 'vietnamese': 0.00020418544031925991}"
      ]
     },
     "execution_count": 120,
     "metadata": {},
     "output_type": "execute_result"
    }
   ],
   "source": [
    "# user scoring\n",
    "# cuisine vector determination from gender, age, knowledge, allergies, cuisine\n",
    "def user_params(user):\n",
    "    if user['gender'] == 'Male':\n",
    "        genderV = male\n",
    "    if user['gender'] == 'Female':\n",
    "        genderV = female\n",
    "    if user['age'] == 1:\n",
    "        ageV = age1\n",
    "    if user['age'] == 2:\n",
    "        ageV = age2\n",
    "    if user['age'] == 3:\n",
    "        ageV = age3\n",
    "    if user['age'] == 4:\n",
    "        ageV = age4\n",
    "    if user['age'] == 5:\n",
    "        ageV = age5\n",
    "    if user['age'] == 6:\n",
    "        ageV = age6\n",
    "    if user['knowledge'] == 1:\n",
    "        knowV = know1\n",
    "    if user['knowledge'] == 2:\n",
    "        knowV = know2\n",
    "    if user['knowledge'] == 3:\n",
    "        knowV = know3\n",
    "    if user['knowledge'] == 4:\n",
    "        knowV = know4\n",
    "    allergyV = dict.fromkeys(['african', 'american', 'chinese', 'french', 'indian', 'italian', 'japanese', 'latin_american', 'mediterranean', 'mexican', 'other_asian', 'other_european', 'spanish', 'thai', 'vietnamese', 'korean', 'middle_eastern'])\n",
    "    for allergy in user['allergies']:\n",
    "        if user['allergies'][allergy] == 1:\n",
    "            for cuisine in allergyV:\n",
    "                if allergyV[cuisine] == None:\n",
    "                    allergyV[cuisine] = neg_allergies[allergy][cuisine]\n",
    "                else:             \n",
    "                    allergyV[cuisine] = allergyV[cuisine] + neg_allergies[allergy][cuisine]\n",
    "    cuisineV = dict.fromkeys(['african', 'american', 'chinese', 'french', 'indian', 'italian', 'japanese', 'latin_american', 'mediterranean', 'mexican', 'other_asian', 'other_european', 'spanish', 'thai', 'vietnamese', 'korean', 'middle_eastern']) \n",
    "    \n",
    "    for user_cuisine in user['cuisines']:\n",
    "        if user['cuisines'][user_cuisine] == 1:\n",
    "            cuisineV[simplify(user_cuisine)] = 0.001\n",
    "        else:\n",
    "            cuisineV[simplify(user_cuisine)] = 0\n",
    "    \n",
    "#     combining genderV, ageV, knowV, allergyV, cuisineV\n",
    "    userV = dict.fromkeys(['african', 'american', 'chinese', 'french', 'indian', 'italian', 'japanese', 'latin_american', 'mediterranean', 'mexican', 'other_asian', 'other_european', 'spanish', 'thai', 'vietnamese', 'korean', 'middle_eastern'])\n",
    "    for k in userV:\n",
    "        userV[k] = genderV[key] + ageV[key] + knowV[k] + allergyV[k] + cuisineV[k]\n",
    "    return userV\n",
    "    \n",
    "user_params(user)"
   ]
  }
 ],
 "metadata": {
  "kernelspec": {
   "display_name": "Python 3",
   "language": "python",
   "name": "python3"
  },
  "language_info": {
   "codemirror_mode": {
    "name": "ipython",
    "version": 3
   },
   "file_extension": ".py",
   "mimetype": "text/x-python",
   "name": "python",
   "nbconvert_exporter": "python",
   "pygments_lexer": "ipython3",
   "version": "3.6.3"
  }
 },
 "nbformat": 4,
 "nbformat_minor": 2
}
