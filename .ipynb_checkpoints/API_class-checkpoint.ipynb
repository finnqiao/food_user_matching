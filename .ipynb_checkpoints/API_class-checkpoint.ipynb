{
 "cells": [
  {
   "cell_type": "code",
   "execution_count": 10,
   "metadata": {
    "collapsed": true
   },
   "outputs": [],
   "source": [
    "import urllib\n",
    "import re\n",
    "import requests\n",
    "from urllib.request import Request, urlopen\n",
    "from bs4 import BeautifulSoup\n",
    "import json\n",
    "\n",
    "# calculates scores across dictionaries\n",
    "import re\n",
    "def cross_weight(d1, d2):\n",
    "    default=1 \n",
    "    ret=0;\n",
    "    for i in d1.keys():\n",
    "        if(d2.get(i,default)==default):\n",
    "            continue\n",
    "        else:\n",
    "            ret+=d1[i]*d2[i]\n",
    "\n",
    "    return ret"
   ]
  },
  {
   "cell_type": "code",
   "execution_count": 16,
   "metadata": {},
   "outputs": [
    {
     "ename": "SyntaxError",
     "evalue": "invalid syntax (<ipython-input-16-1b43d0450375>, line 8)",
     "output_type": "error",
     "traceback": [
      "\u001b[0;36m  File \u001b[0;32m\"<ipython-input-16-1b43d0450375>\"\u001b[0;36m, line \u001b[0;32m8\u001b[0m\n\u001b[0;31m    'vendor_1': {\u001b[0m\n\u001b[0m              ^\u001b[0m\n\u001b[0;31mSyntaxError\u001b[0m\u001b[0;31m:\u001b[0m invalid syntax\n"
     ]
    }
   ],
   "source": [
    "# likely request body\n",
    "request = {}\n",
    "request['body'] = {\n",
    "    'user': {\n",
    "        \n",
    "    },\n",
    "    'vendors': [\n",
    "        {\n",
    "            'vendor-name': ' '\n",
    "        },\n",
    "        {\n",
    "            'vendor-name': ' '\n",
    "        }\n",
    "    ]\n",
    "}"
   ]
  },
  {
   "cell_type": "code",
   "execution_count": 7,
   "metadata": {
    "collapsed": true
   },
   "outputs": [],
   "source": [
    "# calculates weights of specific words\n",
    "pattern = re.compile(r'[^A-Za-z\\s]') \n",
    "def word_weights(str_):\n",
    "    str_ = pattern.sub('',str_) \n",
    "    alist = str_.lower().split(\" \")\n",
    "    length = len(alist)\n",
    "    default=0\n",
    "    \n",
    "    dict={}\n",
    "    for i in alist:\n",
    "        if dict.get(i, default)==default:\n",
    "            dict[i]=1/length\n",
    "        else:\n",
    "            dict[i]+=1/length\n",
    "\n",
    "    return dict"
   ]
  },
  {
   "cell_type": "code",
   "execution_count": 8,
   "metadata": {
    "collapsed": true
   },
   "outputs": [],
   "source": [
    "# calculates distance in km between two points with latitude and longitudes\n",
    "from math import sin, cos, sqrt, atan2, radians, ceil\n",
    "# approximate radius of earth in km\n",
    "R = 6373.0\n",
    "\n",
    "def distance_calc(lat1,lon1,lat2,lon2):\n",
    "    \n",
    "    lat1 = radians(lat1)\n",
    "    lon1 = radians(lon1)\n",
    "    lat2 = radians(lat2)\n",
    "    lon2 = radians(lon2)\n",
    "\n",
    "    dlon = lon2 - lon1\n",
    "    dlat = lat2 - lat1\n",
    "\n",
    "    a = sin(dlat / 2)**2 + cos(lat1) * cos(lat2) * sin(dlon / 2)**2\n",
    "    c = 2 * atan2(sqrt(a), sqrt(1 - a))\n",
    "\n",
    "    distance = R * c\n",
    "    \n",
    "    return distance"
   ]
  },
  {
   "cell_type": "code",
   "execution_count": 9,
   "metadata": {
    "collapsed": true
   },
   "outputs": [],
   "source": [
    "# simplifies any string to lower case and connects them with underscore\n",
    "def simplify(str_):\n",
    "    str_ = pattern.sub('',str_) \n",
    "    alist = str_.lower().split(\" \")\n",
    "    str_ = '_'.join(alist)\n",
    "    return str_"
   ]
  },
  {
   "cell_type": "code",
   "execution_count": null,
   "metadata": {
    "collapsed": true
   },
   "outputs": [],
   "source": []
  },
  {
   "cell_type": "code",
   "execution_count": null,
   "metadata": {
    "collapsed": true
   },
   "outputs": [],
   "source": []
  },
  {
   "cell_type": "code",
   "execution_count": null,
   "metadata": {
    "collapsed": true
   },
   "outputs": [],
   "source": []
  },
  {
   "cell_type": "code",
   "execution_count": null,
   "metadata": {},
   "outputs": [],
   "source": []
  },
  {
   "cell_type": "code",
   "execution_count": null,
   "metadata": {
    "collapsed": true
   },
   "outputs": [],
   "source": []
  }
 ],
 "metadata": {
  "kernelspec": {
   "display_name": "Python 3",
   "language": "python",
   "name": "python3"
  },
  "language_info": {
   "codemirror_mode": {
    "name": "ipython",
    "version": 3
   },
   "file_extension": ".py",
   "mimetype": "text/x-python",
   "name": "python",
   "nbconvert_exporter": "python",
   "pygments_lexer": "ipython3",
   "version": "3.6.3"
  }
 },
 "nbformat": 4,
 "nbformat_minor": 2
}
