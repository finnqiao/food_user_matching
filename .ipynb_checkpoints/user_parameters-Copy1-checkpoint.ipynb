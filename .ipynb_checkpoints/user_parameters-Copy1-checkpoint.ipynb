{
 "cells": [
  {
   "cell_type": "code",
   "execution_count": 69,
   "metadata": {
    "collapsed": true
   },
   "outputs": [],
   "source": [
    "%store -r gender_vector\n",
    "%store -r age_vector\n",
    "%store -r knowledge_vector\n",
    "\n",
    "import re\n",
    "def cross_weight(d1, d2):\n",
    "    default=1 \n",
    "    ret=0;\n",
    "    for i in d1.keys():\n",
    "        if(d2.get(i,default)==default):\n",
    "            continue\n",
    "        else:\n",
    "            ret+=d1[i]*d2[i]\n",
    "\n",
    "    return ret\n",
    "pattern = re.compile(r'[^A-Za-z\\s]') \n",
    "def word_weights(str_):\n",
    "    str_ = pattern.sub('',str_) \n",
    "    alist = str_.lower().split(\" \")\n",
    "    length = len(alist)\n",
    "    default=0\n",
    "    \n",
    "    dict={}\n",
    "    for i in alist:\n",
    "        if dict.get(i, default)==default:\n",
    "            dict[i]=1/length\n",
    "        else:\n",
    "            dict[i]+=1/length\n",
    "\n",
    "    return dict"
   ]
  },
  {
   "cell_type": "code",
   "execution_count": 70,
   "metadata": {
    "collapsed": true
   },
   "outputs": [],
   "source": [
    "from math import sin, cos, sqrt, atan2, radians, ceil\n",
    "# approximate radius of earth in km\n",
    "R = 6373.0\n",
    "\n",
    "def distance_calc(lat1,lon1,lat2,lon2):\n",
    "    \n",
    "    lat1 = radians(lat1)\n",
    "    lon1 = radians(lon1)\n",
    "    lat2 = radians(lat2)\n",
    "    lon2 = radians(lon2)\n",
    "\n",
    "    dlon = lon2 - lon1\n",
    "    dlat = lat2 - lat1\n",
    "\n",
    "    a = sin(dlat / 2)**2 + cos(lat1) * cos(lat2) * sin(dlon / 2)**2\n",
    "    c = 2 * atan2(sqrt(a), sqrt(1 - a))\n",
    "\n",
    "    distance = R * c\n",
    "    \n",
    "    return distance\n",
    "\n",
    "# distance_calc(user['location']['latitude'],user['location']['longitude'],user['curLocation']['latitude'],user['curLocation']['longitude'])"
   ]
  },
  {
   "cell_type": "code",
   "execution_count": 71,
   "metadata": {
    "collapsed": true
   },
   "outputs": [],
   "source": [
    "def simplify(str_):\n",
    "    str_ = pattern.sub('',str_) \n",
    "    alist = str_.lower().split(\" \")\n",
    "    str_ = '_'.join(alist)\n",
    "    return str_"
   ]
  },
  {
   "cell_type": "code",
   "execution_count": 72,
   "metadata": {},
   "outputs": [
    {
     "name": "stdout",
     "output_type": "stream",
     "text": [
      "female =  {'african': 1.6887626262626264e-05, 'american': 0.00036931818181818181, 'chinese': 0.00027367424242424242, 'french': 0.00021609848484848486, 'indian': 0.00016628787878787877, 'italian': 0.00035340909090909091, 'japanese': 0.00022064393939393939, 'korean': 6.4962121212121211e-05, 'latin_american': 4.4044612794612797e-05, 'mediterranean': 8.8320707070707073e-05, 'mexican': 0.00032083333333333334, 'other_asian': 0.00010089962121212121, 'other_european': 0.00013582702020202022, 'spanish': 0.00010359848484848485, 'thai': 0.00016306818181818184, 'vietnamese': 0.00010056818181818182, 'middle_eastern': 2.4621212121212119e-05}\n",
      "male =  {'african': 1.925014392630973e-05, 'american': 0.00042098445595854919, 'chinese': 0.00031196027633851469, 'french': 0.00024632987910189983, 'indian': 0.00018955094991364419, 'italian': 0.00040284974093264254, 'japanese': 0.00025151122625215893, 'korean': 7.4050086355785842e-05, 'latin_american': 5.0206294377278833e-05, 'mediterranean': 0.00010067645365572827, 'mexican': 0.00036571675302245248, 'other_asian': 0.00011501511226252158, 'other_european': 0.00015482872769142199, 'spanish': 0.0001180915371329879, 'thai': 0.00018588082901554404, 'vietnamese': 0.00011463730569948186, 'middle_eastern': 2.8065630397236616e-05}\n",
      "age1 = {'african': 4.2541348600508897e-05, 'american': 0.00093034351145038165, 'chinese': 0.00068940839694656489, 'french': 0.00054437022900763357, 'indian': 0.00041889312977099239, 'italian': 0.00089026717557251901, 'japanese': 0.00055582061068702292, 'korean': 0.00016364503816793891, 'latin_american': 0.00011095207803223071, 'mediterranean': 0.00022248727735368955, 'mexican': 0.00080820610687022893, 'other_asian': 0.00025417461832061066, 'other_european': 0.00034215966921119593, 'spanish': 0.00026097328244274807, 'thai': 0.00041078244274809161, 'vietnamese': 0.00025333969465648852, 'middle_eastern': 6.2022900763358783e-05}\n",
      "age2 = {'african': 4.2541348600508897e-05, 'american': 0.00093034351145038165, 'chinese': 0.00068940839694656489, 'french': 0.00054437022900763357, 'indian': 0.00041889312977099239, 'italian': 0.00089026717557251901, 'japanese': 0.00055582061068702292, 'korean': 0.00016364503816793891, 'latin_american': 0.00011095207803223071, 'mediterranean': 0.00022248727735368955, 'mexican': 0.00080820610687022893, 'other_asian': 0.00025417461832061066, 'other_european': 0.00034215966921119593, 'spanish': 0.00026097328244274807, 'thai': 0.00041078244274809161, 'vietnamese': 0.00025333969465648852, 'middle_eastern': 6.2022900763358783e-05}\n",
      "age3 = {'african': 3.6305646036916392e-05, 'american': 0.00079397394136807812, 'chinese': 0.0005883550488599348, 'french': 0.00046457654723127041, 'indian': 0.00035749185667752447, 'italian': 0.00075977198697068401, 'japanese': 0.00047434853420195441, 'korean': 0.00013965798045602605, 'latin_american': 9.4688744118711553e-05, 'mediterranean': 0.00018987513572204127, 'mexican': 0.00068973941368078177, 'other_asian': 0.00021691775244299675, 'other_european': 0.00029200597176981541, 'spanish': 0.00022271986970684039, 'thai': 0.0003505700325732899, 'vietnamese': 0.00021620521172638436, 'middle_eastern': 5.293159609120521e-05}\n",
      "age4 = {'african': 3.2306763285024153e-05, 'american': 0.00070652173913043469, 'chinese': 0.00052355072463768115, 'french': 0.00041340579710144923, 'indian': 0.00031811594202898552, 'italian': 0.0006760869565217391, 'japanese': 0.00042210144927536233, 'korean': 0.00012427536231884059, 'latin_american': 8.4259259259259251e-05, 'mediterranean': 0.00016896135265700483, 'mexican': 0.00061376811594202898, 'other_asian': 0.00019302536231884058, 'other_european': 0.00025984299516908211, 'spanish': 0.00019818840579710143, 'thai': 0.00031195652173913042, 'vietnamese': 0.00019239130434782608, 'middle_eastern': 4.7101449275362324e-05}\n",
      "age5= {'african': 3.2306763285024153e-05, 'american': 0.00070652173913043469, 'chinese': 0.00052355072463768115, 'french': 0.00041340579710144923, 'indian': 0.00031811594202898552, 'italian': 0.0006760869565217391, 'japanese': 0.00042210144927536233, 'korean': 0.00012427536231884059, 'latin_american': 8.4259259259259251e-05, 'mediterranean': 0.00016896135265700483, 'mexican': 0.00061376811594202898, 'other_asian': 0.00019302536231884058, 'other_european': 0.00025984299516908211, 'spanish': 0.00019818840579710143, 'thai': 0.00031195652173913042, 'vietnamese': 0.00019239130434782608, 'middle_eastern': 4.7101449275362324e-05}\n",
      "age6 = {'african': 3.4294871794871794e-05, 'american': 0.00075000000000000002, 'chinese': 0.00055576923076923078, 'french': 0.00043884615384615381, 'indian': 0.00033769230769230767, 'italian': 0.00071769230769230764, 'japanese': 0.00044807692307692306, 'korean': 0.00013192307692307692, 'latin_american': 8.9444444444444443e-05, 'mediterranean': 0.00017935897435897438, 'mexican': 0.00065153846153846165, 'other_asian': 0.00020490384615384614, 'other_european': 0.00027583333333333328, 'spanish': 0.00021038461538461537, 'thai': 0.00033115384615384615, 'vietnamese': 0.00020423076923076921, 'middle_eastern': 5.0000000000000002e-05}\n",
      "know1 = {'african': 2.2793115201090661e-05, 'american': 0.0004984662576687116, 'chinese': 0.0003693762781186094, 'french': 0.00029166666666666669, 'indian': 0.00022443762781186095, 'italian': 0.00047699386503067485, 'japanese': 0.00029780163599182007, 'korean': 8.7678936605316982e-05, 'latin_american': 5.9446716655305615e-05, 'mediterranean': 0.00011920586230402181, 'mexican': 0.00043302658486707565, 'other_asian': 0.00013618353783231084, 'other_european': 0.00018332481254260396, 'spanish': 0.00013982617586912066, 'thai': 0.00022009202453987731, 'vietnamese': 0.0001357361963190184, 'middle_eastern': 3.3231083844580775e-05}\n",
      "know2 = {'african': 6.1443236714975842e-05, 'american': 0.0004812047101449275, 'chinese': 0.00044067028985507245, 'french': 0.00043863224637681158, 'indian': 0.00039651268115942028, 'italian': 0.00054144021739130441, 'japanese': 0.00042368659420289852, 'korean': 0.00020538949275362322, 'latin_american': 0.00016238929146537845, 'mediterranean': 0.00020750301932367151, 'mexican': 0.00049977355072463767, 'other_asian': 0.00026358695652173915, 'other_european': 0.00029630887681159421, 'spanish': 0.00028702445652173912, 'thai': 0.0003992300724637681, 'vietnamese': 0.00027740036231884059, 'middle_eastern': 0.00010801630434782609}\n",
      "know3 = {'african': 0.00022996794871794869, 'american': 0.00046634615384615383, 'chinese': 0.00040384615384615388, 'french': 0.00052884615384615383, 'indian': 0.00046153846153846158, 'italian': 0.00050000000000000001, 'japanese': 0.00043269230769230771, 'korean': 0.00035576923076923074, 'latin_american': 0.00035790598290598289, 'mediterranean': 0.00034775641025641029, 'mexican': 0.00050000000000000001, 'other_asian': 0.00038581730769230772, 'other_european': 0.00041266025641025639, 'spanish': 0.00042788461538461535, 'thai': 0.00046153846153846158, 'vietnamese': 0.00040384615384615388, 'middle_eastern': 0.00026923076923076922}\n",
      "know4 = {'african': 0.00011967054263565891, 'american': 0.00046366279069767443, 'chinese': 0.00048546511627906979, 'french': 0.0005007267441860465, 'indian': 0.00049273255813953487, 'italian': 0.00057049418604651159, 'japanese': 0.00050508720930232556, 'korean': 0.00034811046511627904, 'latin_american': 0.00025750968992248059, 'mediterranean': 0.00030208333333333329, 'mexican': 0.00051526162790697678, 'other_asian': 0.00037590843023255812, 'other_european': 0.00037439437984496132, 'spanish': 0.00040225290697674422, 'thai': 0.00049709302325581393, 'vietnamese': 0.00040625000000000004, 'middle_eastern': 0.00022311046511627907}\n"
     ]
    }
   ],
   "source": [
    "female = gender_vector['Female']\n",
    "male = gender_vector['Male']\n",
    "age1 = age_vector[1]\n",
    "age2 = age_vector[1]\n",
    "age3 = age_vector[2]\n",
    "age4 = age_vector[3]\n",
    "age5 = age_vector[3]\n",
    "age6 = age_vector[4]\n",
    "know1 = knowledge_vector['Novice']\n",
    "know2 = knowledge_vector['Intermediate']\n",
    "know3 = knowledge_vector['Expert']\n",
    "know4 = knowledge_vector['Advanced']\n",
    "print('female = ',female)\n",
    "print('male = ', male)\n",
    "print('age1 =', age1)\n",
    "print('age2 =', age2)\n",
    "print('age3 =', age3)\n",
    "print('age4 =', age4)\n",
    "print('age5=', age5)\n",
    "print('age6 =', age6)\n",
    "print('know1 =', know1)\n",
    "print('know2 =', know2)\n",
    "print('know3 =', know3)\n",
    "print('know4 =', know4)"
   ]
  },
  {
   "cell_type": "code",
   "execution_count": 73,
   "metadata": {
    "collapsed": true
   },
   "outputs": [],
   "source": [
    "#brian\n",
    "user = {\n",
    "    'fname': 'Brian',\n",
    "    'lname': 'Nguyen',\n",
    "    'gender': 'Male',\n",
    "    'age': 4,\n",
    "    'knowledge': 2,\n",
    "    'budget': 4,\n",
    "    'dietary': 1,\n",
    "    'allergies': {\n",
    "        'Peanut':0, \n",
    "        'Tree Nuts':0, \n",
    "        'Milk':1, \n",
    "        'Egg':0, \n",
    "        'Wheat':0, \n",
    "        'Soy':1, \n",
    "        'Fish':0, \n",
    "        'Shellfish':0, \n",
    "        'Meat':0, \n",
    "        'Poultry':0\n",
    "    },\n",
    "    'location': {\n",
    "        'neighborhood': 'SOMA',\n",
    "        'latitude':37.7785189,\n",
    "        'longitude':-122.4056395\n",
    "    },\n",
    "    'curLocation': {\n",
    "        'latitude':37.771741,\n",
    "        'longitude':-122.409281\n",
    "    },\n",
    "    'cuisines': {\n",
    "        'African':0, \n",
    "        'American':0, \n",
    "        'Chinese':1, \n",
    "        'Thai':1, \n",
    "        'Japanese':1, \n",
    "        'Korean':1, \n",
    "        'Vietnamese':0, \n",
    "        'Indian':0, \n",
    "        'Middle Eastern':0, \n",
    "        'French':0, \n",
    "        'Italian':1, \n",
    "        'Mexican':1, \n",
    "        'Spanish':0, \n",
    "        'Latin American':1, \n",
    "        'Mediterranean':0, \n",
    "        'Other Asian':1, \n",
    "        'Other European':0\n",
    "    },\n",
    "    'popularity': 5,\n",
    "    'rating': 4,\n",
    "    'proximity': 2,\n",
    "    'ambience': 1,\n",
    "    'menu': 2\n",
    "}\n",
    "\n",
    "ali = {\n",
    "    'fname': 'Ali',\n",
    "    'lname': 'Soyupak',\n",
    "    'gender': 'Male',\n",
    "    'age': 1,\n",
    "    'knowledge': 1,\n",
    "    'budget': 1,\n",
    "    'dietary': 3,\n",
    "    'allergies': {\n",
    "        'Peanut':0, \n",
    "        'Tree Nuts':0, \n",
    "        'Milk':1, \n",
    "        'Egg':1, \n",
    "        'Wheat':0, \n",
    "        'Soy':0, \n",
    "        'Fish':1, \n",
    "        'Shellfish':1, \n",
    "        'Meat':1, \n",
    "        'Poultry':1\n",
    "    },\n",
    "    'location': {\n",
    "        'neighborhood': 'SOMA',\n",
    "        'latitude':37.7785189,\n",
    "        'longitude':-122.4056395\n",
    "    },\n",
    "    'curLocation': {\n",
    "        'latitude':37.771741,\n",
    "        'longitude':-122.409281\n",
    "    },\n",
    "    'cuisines': {\n",
    "        'African':0, \n",
    "        'American':1, \n",
    "        'Chinese':0, \n",
    "        'Thai':0, \n",
    "        'Japanese':0, \n",
    "        'Korean':0, \n",
    "        'Vietnamese':0, \n",
    "        'Indian':0, \n",
    "        'Middle Eastern':1, \n",
    "        'French':0, \n",
    "        'Italian':1, \n",
    "        'Mexican':0, \n",
    "        'Spanish':0, \n",
    "        'Latin American':0, \n",
    "        'Mediterranean':1, \n",
    "        'Other Asian':0, \n",
    "        'Other European':0\n",
    "    },\n",
    "    'popularity': 1,\n",
    "    'rating': 1,\n",
    "    'proximity': 5,\n",
    "    'ambience': 4,\n",
    "    'menu': 4\n",
    "}\n",
    "\n",
    "finn = {\n",
    "    'fname': 'Finn',\n",
    "    'lname': 'Qiao',\n",
    "    'gender': 'Male',\n",
    "    'age': 3,\n",
    "    'knowledge': 4,\n",
    "    'budget': 2,\n",
    "    'dietary': 1,\n",
    "    'allergies': {\n",
    "        'Peanut':0, \n",
    "        'Tree Nuts':0, \n",
    "        'Milk':0, \n",
    "        'Egg':0, \n",
    "        'Wheat':1, \n",
    "        'Soy':0, \n",
    "        'Fish':0, \n",
    "        'Shellfish':0, \n",
    "        'Meat':0, \n",
    "        'Poultry':0\n",
    "    },\n",
    "    'location': {\n",
    "        'neighborhood': 'SOMA',\n",
    "        'latitude':37.7785189,\n",
    "        'longitude':-122.4056395\n",
    "    },\n",
    "    'curLocation': {\n",
    "        'latitude':37.771741,\n",
    "        'longitude':-122.409281\n",
    "    },\n",
    "    'cuisines': {\n",
    "        'African':1, \n",
    "        'American':0, \n",
    "        'Chinese':1, \n",
    "        'Thai':1, \n",
    "        'Japanese':1, \n",
    "        'Korean':0, \n",
    "        'Vietnamese':0, \n",
    "        'Indian':0, \n",
    "        'Middle Eastern':0, \n",
    "        'French':1, \n",
    "        'Italian':1, \n",
    "        'Mexican':1, \n",
    "        'Spanish':1, \n",
    "        'Latin American':1, \n",
    "        'Mediterranean':0, \n",
    "        'Other Asian':0, \n",
    "        'Other European':1\n",
    "    },\n",
    "    'popularity': 2,\n",
    "    'rating': 4,\n",
    "    'proximity': 1,\n",
    "    'ambience': 4,\n",
    "    'menu': 4\n",
    "}"
   ]
  },
  {
   "cell_type": "code",
   "execution_count": 74,
   "metadata": {
    "collapsed": true
   },
   "outputs": [],
   "source": [
    "import urllib\n",
    "import re\n",
    "import requests\n",
    "from urllib.request import Request, urlopen\n",
    "from bs4 import BeautifulSoup\n",
    "import json"
   ]
  },
  {
   "cell_type": "code",
   "execution_count": 75,
   "metadata": {
    "collapsed": true
   },
   "outputs": [],
   "source": [
    "allergies = [ 'Peanut', 'Tree Nuts', 'Milk', 'Egg', 'Wheat', 'Soy', 'Fish', 'Shellfish', 'Meat', 'Poultry' ]\n",
    "\n",
    "allergy_word_clouds = []\n",
    "for allergy in allergies:\n",
    "    related = []\n",
    "    url = 'http://relatedwords.org/api/related?term=' + simplify(allergy)\n",
    "    req = Request(url, headers={'User-Agent': 'Mozilla/5.0'})\n",
    "    r = urlopen(req).read()\n",
    "    j = json.loads(r)\n",
    "    for x in j:\n",
    "        related.append(x['word'])\n",
    "    str_ = ''\n",
    "    for x in related:\n",
    "        str_ = str_ + x + ' '\n",
    "    weight = word_weights(str_)\n",
    "    allergy_word_clouds.append(weight)\n",
    "allergy_word_weights = dict(zip(allergies,allergy_word_clouds))"
   ]
  },
  {
   "cell_type": "code",
   "execution_count": 76,
   "metadata": {},
   "outputs": [
    {
     "name": "stdout",
     "output_type": "stream",
     "text": [
      "Stored 'neg_allergies' (dict)\n"
     ]
    }
   ],
   "source": [
    "%store -r cuisine_word_weights\n",
    "avg = 0.0007\n",
    "neg_allergies = dict.fromkeys(allergies)\n",
    "for allergy in neg_allergies:\n",
    "    sum_ = 0\n",
    "    neg_allergies[allergy] = dict.fromkeys(['african', 'american', 'chinese', 'french', 'indian', 'italian', 'japanese', 'latin_american', 'mediterranean', 'mexican', 'other_asian', 'other_european', 'spanish', 'thai', 'vietnamese', 'korean', 'middle_eastern'])\n",
    "    text_weight = allergy_word_weights[allergy]\n",
    "    for key in neg_allergies[allergy]:\n",
    "        neg_allergies[allergy][key] = cross_weight(cuisine_word_weights[key],text_weight) * -0.1\n",
    "\n",
    "%store neg_allergies"
   ]
  },
  {
   "cell_type": "code",
   "execution_count": 77,
   "metadata": {},
   "outputs": [
    {
     "name": "stdout",
     "output_type": "stream",
     "text": [
      "{'african': -0.00020074954180657721, 'american': 0.0014201732589357802, 'chinese': -9.9844909668776586e-06, 'french': -0.00010654891502553531, 'indian': 1.9409974395389587e-05, 'italian': 0.0014988136166050455, 'japanese': -0.00010411829715392109, 'latin_american': -0.00037473177520049651, 'mediterranean': 0.00099604622362360227, 'mexican': 0.00017834430889636599, 'other_asian': -0.00019266410356907443, 'other_european': -0.00035981142625691532, 'spanish': -0.00030728022798740743, 'thai': -0.00023424125438583309, 'vietnamese': -0.00035907401491422158, 'korean': -0.00021110624237515989, 'middle_eastern': 0.00082947935038902069}\n"
     ]
    }
   ],
   "source": [
    "# user scoring\n",
    "# cuisine vector determination from gender, age, knowledge, allergies, cuisine\n",
    "def user_cuisine_params(user):\n",
    "    if user['gender'] == 'Male':\n",
    "        genderV = male\n",
    "    if user['gender'] == 'Female':\n",
    "        genderV = female\n",
    "    if user['age'] == 1:\n",
    "        ageV = age1\n",
    "    if user['age'] == 2:\n",
    "        ageV = age2\n",
    "    if user['age'] == 3:\n",
    "        ageV = age3\n",
    "    if user['age'] == 4:\n",
    "        ageV = age4\n",
    "    if user['age'] == 5:\n",
    "        ageV = age5\n",
    "    if user['age'] == 6:\n",
    "        ageV = age6\n",
    "    if user['knowledge'] == 1:\n",
    "        knowV = know1\n",
    "    if user['knowledge'] == 2:\n",
    "        knowV = know2\n",
    "    if user['knowledge'] == 3:\n",
    "        knowV = know3\n",
    "    if user['knowledge'] == 4:\n",
    "        knowV = know4\n",
    "    allergyV = dict.fromkeys(['african', 'american', 'chinese', 'french', 'indian', 'italian', 'japanese', 'latin_american', 'mediterranean', 'mexican', 'other_asian', 'other_european', 'spanish', 'thai', 'vietnamese', 'korean', 'middle_eastern'])\n",
    "    for allergy in user['allergies']:\n",
    "        if user['allergies'][allergy] == 1:\n",
    "            for cuisine in allergyV:\n",
    "                if allergyV[cuisine] == None:\n",
    "                    allergyV[cuisine] = neg_allergies[allergy][cuisine]\n",
    "                else:             \n",
    "                    allergyV[cuisine] = allergyV[cuisine] + neg_allergies[allergy][cuisine]\n",
    "    cuisineV = dict.fromkeys(['african', 'american', 'chinese', 'french', 'indian', 'italian', 'japanese', 'latin_american', 'mediterranean', 'mexican', 'other_asian', 'other_european', 'spanish', 'thai', 'vietnamese', 'korean', 'middle_eastern']) \n",
    "    \n",
    "    for user_cuisine in user['cuisines']:\n",
    "        if user['cuisines'][user_cuisine] == 1:\n",
    "            cuisineV[simplify(user_cuisine)] = 0.0013\n",
    "        else:\n",
    "            cuisineV[simplify(user_cuisine)] = 0\n",
    "    \n",
    "#     combining genderV, ageV, knowV, allergyV, cuisineV\n",
    "    userV = dict.fromkeys(['african', 'american', 'chinese', 'french', 'indian', 'italian', 'japanese', 'latin_american', 'mediterranean', 'mexican', 'other_asian', 'other_european', 'spanish', 'thai', 'vietnamese', 'korean', 'middle_eastern'])\n",
    "    for k in userV:\n",
    "        userV[k] = genderV[key] + ageV[key] + knowV[k] + allergyV[k] + cuisineV[k]\n",
    "    return userV\n",
    "    \n",
    "cuisine_params = user_cuisine_params(user)\n",
    "print(cuisine_params)"
   ]
  },
  {
   "cell_type": "code",
   "execution_count": 78,
   "metadata": {},
   "outputs": [],
   "source": [
    "%store -r newVendorList\n",
    "import pprint\n",
    "# print(dummy_vendor['attribute']['vegetarian'])\n",
    "newVendorList[:] = [d for d in newVendorList if d.get('day') == 27]"
   ]
  },
  {
   "cell_type": "code",
   "execution_count": 79,
   "metadata": {},
   "outputs": [
    {
     "name": "stdout",
     "output_type": "stream",
     "text": [
      "{'The Chairman': 0.034275563771841391, 'Bonito Poke': 0.044577880564542344, 'Seoul of Taipei': 0.073667651496578945, 'Mozzeria': 0.11871289161816337, 'The Boneyard': 0.080830509997479108, 'Southern Comfort Kitchen': 0.065901463264742027, 'Little Red Riding Truck': 0.070210278026659093, 'Liberty Cheesesteak': 0.11734415519144521, 'Frozen Kuhsterd': 0.054625839444748844, 'Senor Sisig': 0.06487493072816948, 'Lobsta Truck': 0.046185696894174712, 'COOL!NARIA': 0.049920182919352879, 'Taqueria Angelicas': 0.24232525838048338, 'Johnny Doughnuts': 0.041950679362388034, 'Bombzies BBQ': 0.066137503194262426, 'Happy Dumplings': 0.048103522369249432, 'Kome Sushi Burrito': 0.033314197266352208, \"Izzy's Cheesesteaks\": 0.088387794008812304}\n"
     ]
    }
   ],
   "source": [
    "def cuisine_score_calc(cuisine_params, vendor):\n",
    "    cuisine_score = 0\n",
    "    for key in cuisine_params:\n",
    "        cuisine_score = cuisine_score + cuisine_params[key] * vendor['cuisine-map'][key]\n",
    "    return cuisine_score*10*1000\n",
    "\n",
    "vendor_names = []\n",
    "vendor_matches = []\n",
    "for vendor in newVendorList:\n",
    "    vendor_names.append(vendor['vendor-name'])\n",
    "    vendor_matches.append(cuisine_score_calc(cuisine_params,vendor))\n",
    "    \n",
    "v = dict(zip(vendor_names,vendor_matches))\n",
    "print(v)"
   ]
  },
  {
   "cell_type": "code",
   "execution_count": 80,
   "metadata": {},
   "outputs": [
    {
     "name": "stdout",
     "output_type": "stream",
     "text": [
      "OrderedDict([('Taqueria Angelicas', 0.24232525838048338),\n",
      "             ('Mozzeria', 0.11871289161816337),\n",
      "             ('Liberty Cheesesteak', 0.11734415519144521),\n",
      "             (\"Izzy's Cheesesteaks\", 0.088387794008812304),\n",
      "             ('The Boneyard', 0.080830509997479108),\n",
      "             ('Seoul of Taipei', 0.073667651496578945),\n",
      "             ('Little Red Riding Truck', 0.070210278026659093),\n",
      "             ('Bombzies BBQ', 0.066137503194262426),\n",
      "             ('Southern Comfort Kitchen', 0.065901463264742027),\n",
      "             ('Senor Sisig', 0.06487493072816948),\n",
      "             ('Frozen Kuhsterd', 0.054625839444748844),\n",
      "             ('COOL!NARIA', 0.049920182919352879),\n",
      "             ('Happy Dumplings', 0.048103522369249432),\n",
      "             ('Lobsta Truck', 0.046185696894174712),\n",
      "             ('Bonito Poke', 0.044577880564542344),\n",
      "             ('Johnny Doughnuts', 0.041950679362388034),\n",
      "             ('The Chairman', 0.034275563771841391),\n",
      "             ('Kome Sushi Burrito', 0.033314197266352208)])\n"
     ]
    }
   ],
   "source": [
    "# def sortDesc(dict_):\n",
    "#     for key, item in dict_.items():\n",
    "#         print(dict_[key])\n",
    "# #         if '' in item:\n",
    "# #             del item['']\n",
    "#         dict_ = sorted(item, key=lambda x: x[1], reverse = True)\n",
    "        \n",
    "# sortDesc(v)\n",
    "from collections import OrderedDict\n",
    "d_descending = OrderedDict(sorted(v.items(), \n",
    "                                  key=lambda kv: kv[1], reverse=True))\n",
    "pprint.pprint(d_descending)\n"
   ]
  },
  {
   "cell_type": "code",
   "execution_count": 81,
   "metadata": {
    "scrolled": true
   },
   "outputs": [
    {
     "name": "stdout",
     "output_type": "stream",
     "text": [
      "{'budget': -0.2, 'dietary': 0.2, 'popularity': 0.05, 'rating': 0.05, 'proximity': -0.2, 'ambience': 0.05, 'menu': 0.05}\n"
     ]
    }
   ],
   "source": [
    "# residual matrix\n",
    "user_resid_keys = ['budget', 'dietary', 'popularity', 'rating', 'proximity', 'ambience', 'menu']\n",
    "user_resid_weights = [-0.2,0.2,0.05,0.05,-0.2,0.05,0.05]\n",
    "user_residual = dict(zip(user_resid_keys,user_resid_weights))\n",
    "print(user_residual)"
   ]
  },
  {
   "cell_type": "code",
   "execution_count": 82,
   "metadata": {},
   "outputs": [
    {
     "name": "stdout",
     "output_type": "stream",
     "text": [
      "1.0 0 0 10.233487951409698 80.85185185185185\n"
     ]
    }
   ],
   "source": [
    "# metrics for normalization by mean\n",
    "def uniq_count(str_):\n",
    "    return len(set(str_.split()))\n",
    "budgetSum = 0\n",
    "popularitySum = 0\n",
    "ratingSum = 0\n",
    "proximitySum = 0\n",
    "menuSum = 0\n",
    "\n",
    "reviewC = 0\n",
    "ratingC = 0\n",
    "locationC = 0\n",
    "\n",
    "for vendor in newVendorList:\n",
    "    budgetSum = budgetSum + vendor['price']\n",
    "    popularitySum = popularitySum + vendor['review-count']\n",
    "    if vendor['review-count'] != 0:\n",
    "        reviewC = reviewC + 1\n",
    "    ratingSum = ratingSum + vendor['stars-count']\n",
    "    if vendor['stars-count'] != 0:\n",
    "        ratingC = ratingC + 1\n",
    "    proximitySum = proximitySum + distance_calc(user['location']['latitude'],user['location']['longitude'],vendor['latitude'],vendor['longitude'])\n",
    "    locationC = locationC + 1\n",
    "    menuSum = menuSum + uniq_count(vendor['menu'])\n",
    "\n",
    "budgetAvg = budgetSum/len(newVendorList)\n",
    "if reviewC > 0:\n",
    "    popularityAvg = popularitySum/reviewC\n",
    "else:\n",
    "    popularityAvg = 0\n",
    "if ratingC > 0:\n",
    "    ratingAvg = ratingSum/ratingC\n",
    "else:\n",
    "    ratingAvg = 0\n",
    "proximityAvg = proximitySum/locationC\n",
    "menuAvg = menuSum/len(newVendorList)\n",
    "\n",
    "print(budgetAvg, popularityAvg, ratingAvg, proximityAvg, menuAvg)"
   ]
  },
  {
   "cell_type": "code",
   "execution_count": 83,
   "metadata": {},
   "outputs": [],
   "source": [
    "vendorNames = []\n",
    "vendorResids = []\n",
    "for vendor in newVendorList:\n",
    "    budgetWeight = user_residual['budget']*(user['budget'] - vendor['price'])/budgetAvg\n",
    "    if vendor['attribute'] and user_residual['dietary'] == 3:\n",
    "        vegeWeight = user_residual['dietary']*vendor['attribute']['vegetarian']\n",
    "    else:\n",
    "        vegeWeight = 0\n",
    "    if popularityAvg > 0:\n",
    "        popularityWeight = (user['popularity']/25)*user_residual['popularity']*(vendor['review-count'] - popularityAvg)/popularityAvg\n",
    "    else: \n",
    "        popularityWeight = 0\n",
    "    \n",
    "    if ratingAvg > 0:\n",
    "        ratingWeight = (user['rating']/25)*user_residual['rating']*(vendor['stars-count'] - ratingAvg)/ratingAvg\n",
    "    else:\n",
    "        ratingWeight = 0\n",
    "    proximityWeight = (user['proximity']/25)*user_residual['proximity']*(distance_calc(user['location']['latitude'],user['location']['longitude'],vendor['latitude'],vendor['longitude']) - proximityAvg)/proximityAvg\n",
    "\n",
    "    ambienceWeight = (user['ambience']/25)*user_residual['ambience']*(vendor['type'] == 'popup')\n",
    "    menuWeight = (user['menu']/25)*user_residual['menu']*(uniq_count(vendor['menu'])/menuAvg)/menuAvg\n",
    "    residualTotal = budgetWeight + popularityWeight + vegeWeight + ratingWeight + proximityWeight + ambienceWeight + menuWeight\n",
    "    vendorNames.append(vendor['vendor-name'])\n",
    "    vendorResids.append(residualTotal)\n",
    "    resids = dict(zip(vendorNames,vendorResids))"
   ]
  },
  {
   "cell_type": "code",
   "execution_count": 84,
   "metadata": {},
   "outputs": [
    {
     "name": "stdout",
     "output_type": "stream",
     "text": [
      "OrderedDict([('Taqueria Angelicas', 0.14648870550102214),\n",
      "             ('Liberty Cheesesteak', 0.09709484300370666),\n",
      "             ('Seoul of Taipei', 0.072782881808903882),\n",
      "             ('Southern Comfort Kitchen', 0.058326983696363764),\n",
      "             ('Senor Sisig', 0.057693785139911469),\n",
      "             ('Frozen Kuhsterd', 0.052561896705048128),\n",
      "             ('Lobsta Truck', 0.048317349452584327),\n",
      "             ('Johnny Doughnuts', 0.046437257665305355),\n",
      "             ('The Chairman', 0.042314554735923021),\n",
      "             (\"Izzy's Cheesesteaks\", 0.035027582345882401),\n",
      "             ('The Boneyard', 0.031252611736792314),\n",
      "             ('Bombzies BBQ', 0.023689495937169836),\n",
      "             ('COOL!NARIA', 0.015580835799715063),\n",
      "             ('Happy Dumplings', 0.014672505524663339),\n",
      "             ('Bonito Poke', 0.012909684622309795),\n",
      "             ('Kome Sushi Burrito', 0.0072778429732147272),\n",
      "             ('Mozzeria', -0.034518957458042163),\n",
      "             ('Little Red Riding Truck', -0.058759250064064773)])\n"
     ]
    }
   ],
   "source": [
    "aggregate_scoring = dict.fromkeys(v.keys())\n",
    "for key in aggregate_scoring:\n",
    "    aggregate_scoring[key] = 0.5*v[key] + resids[key]\n",
    "d_descending = OrderedDict(sorted(aggregate_scoring.items(), \n",
    "                                  key=lambda kv: kv[1], reverse=True))\n",
    "pprint.pprint(d_descending)"
   ]
  },
  {
   "cell_type": "code",
   "execution_count": 85,
   "metadata": {},
   "outputs": [
    {
     "name": "stdout",
     "output_type": "stream",
     "text": [
      "[{'axis': 'african', 'value': -0.02007495418065772},\n",
      " {'axis': 'american', 'value': 0.14201732589357802},\n",
      " {'axis': 'chinese', 'value': -0.00099844909668776586},\n",
      " {'axis': 'french', 'value': -0.01065489150255353},\n",
      " {'axis': 'indian', 'value': 0.0019409974395389587},\n",
      " {'axis': 'italian', 'value': 0.14988136166050456},\n",
      " {'axis': 'japanese', 'value': -0.010411829715392109},\n",
      " {'axis': 'latin_american', 'value': -0.037473177520049653},\n",
      " {'axis': 'mediterranean', 'value': 0.099604622362360229},\n",
      " {'axis': 'mexican', 'value': 0.017834430889636599},\n",
      " {'axis': 'other_asian', 'value': -0.019266410356907442},\n",
      " {'axis': 'other_european', 'value': -0.035981142625691534},\n",
      " {'axis': 'spanish', 'value': -0.030728022798740744},\n",
      " {'axis': 'thai', 'value': -0.023424125438583309},\n",
      " {'axis': 'vietnamese', 'value': -0.035907401491422158},\n",
      " {'axis': 'korean', 'value': -0.021110624237515991},\n",
      " {'axis': 'middle_eastern', 'value': 0.082947935038902063}]\n"
     ]
    }
   ],
   "source": [
    "data = []\n",
    "for cuisine in cuisine_params:\n",
    "    valuepair = {'axis':cuisine,'value':cuisine_params[cuisine]*100}\n",
    "    data.append(valuepair)\n",
    "pprint.pprint(data)"
   ]
  },
  {
   "cell_type": "code",
   "execution_count": 86,
   "metadata": {},
   "outputs": [
    {
     "name": "stdout",
     "output_type": "stream",
     "text": [
      "['Taqueria Angelicas', 'Liberty Cheesesteak', 'Seoul of Taipei', 'Southern Comfort Kitchen', 'Senor Sisig', 'Frozen Kuhsterd', 'Lobsta Truck', 'Johnny Doughnuts', 'The Chairman', \"Izzy's Cheesesteaks\"]\n"
     ]
    }
   ],
   "source": [
    "top10 = []\n",
    "for k in d_descending:\n",
    "    top10.append(k)\n",
    "print(top10[:10])\n",
    "# print(top10[:10])\n"
   ]
  },
  {
   "cell_type": "code",
   "execution_count": 87,
   "metadata": {
    "scrolled": false
   },
   "outputs": [
    {
     "name": "stdout",
     "output_type": "stream",
     "text": [
      "The Chairman\n",
      "The Chairman\n",
      "Bonito Poke\n",
      "Seoul of Taipei\n",
      "Mozzeria\n",
      "Mozzeria\n",
      "The Boneyard\n",
      "The Boneyard\n",
      "Southern Comfort Kitchen\n",
      "Southern Comfort Kitchen\n",
      "Southern Comfort Kitchen\n",
      "Little Red Riding Truck\n",
      "Liberty Cheesesteak\n",
      "Frozen Kuhsterd\n",
      "Senor Sisig\n",
      "Senor Sisig\n",
      "Lobsta Truck\n",
      "COOL!NARIA\n",
      "Taqueria Angelicas\n",
      "Johnny Doughnuts\n",
      "Johnny Doughnuts\n",
      "Bombzies BBQ\n",
      "Happy Dumplings\n",
      "Happy Dumplings\n",
      "Kome Sushi Burrito\n",
      "Izzy's Cheesesteaks\n",
      "Izzy's Cheesesteaks\n"
     ]
    }
   ],
   "source": [
    "for vendor in newVendorList:\n",
    "    if vendor['day'] == 27:\n",
    "        print(vendor['vendor-name'])"
   ]
  },
  {
   "cell_type": "code",
   "execution_count": null,
   "metadata": {
    "collapsed": true
   },
   "outputs": [],
   "source": []
  }
 ],
 "metadata": {
  "kernelspec": {
   "display_name": "Python 3",
   "language": "python",
   "name": "python3"
  },
  "language_info": {
   "codemirror_mode": {
    "name": "ipython",
    "version": 3
   },
   "file_extension": ".py",
   "mimetype": "text/x-python",
   "name": "python",
   "nbconvert_exporter": "python",
   "pygments_lexer": "ipython3",
   "version": "3.6.3"
  }
 },
 "nbformat": 4,
 "nbformat_minor": 2
}
